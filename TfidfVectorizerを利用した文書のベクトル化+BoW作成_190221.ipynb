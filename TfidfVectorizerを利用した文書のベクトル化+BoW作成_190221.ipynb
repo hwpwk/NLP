{
 "cells": [
  {
   "cell_type": "code",
   "execution_count": 1,
   "metadata": {},
   "outputs": [],
   "source": [
    "import pandas as pd\n",
    "import numpy as np\n",
    "from sklearn.feature_extraction.text import TfidfVectorizer"
   ]
  },
  {
   "cell_type": "code",
   "execution_count": 2,
   "metadata": {},
   "outputs": [
    {
     "data": {
      "text/html": [
       "<div>\n",
       "<style>\n",
       "    .dataframe thead tr:only-child th {\n",
       "        text-align: right;\n",
       "    }\n",
       "\n",
       "    .dataframe thead th {\n",
       "        text-align: left;\n",
       "    }\n",
       "\n",
       "    .dataframe tbody tr th {\n",
       "        vertical-align: top;\n",
       "    }\n",
       "</style>\n",
       "<table border=\"1\" class=\"dataframe\">\n",
       "  <thead>\n",
       "    <tr style=\"text-align: right;\">\n",
       "      <th></th>\n",
       "      <th>id</th>\n",
       "      <th>単語×品詞</th>\n",
       "      <th>単語</th>\n",
       "    </tr>\n",
       "  </thead>\n",
       "  <tbody>\n",
       "    <tr>\n",
       "      <th>0</th>\n",
       "      <td>1</td>\n",
       "      <td>弱み&amp;標準_名詞-一般</td>\n",
       "      <td>弱み</td>\n",
       "    </tr>\n",
       "    <tr>\n",
       "      <th>1</th>\n",
       "      <td>1</td>\n",
       "      <td>弱み_名詞-一般</td>\n",
       "      <td>弱み</td>\n",
       "    </tr>\n",
       "    <tr>\n",
       "      <th>2</th>\n",
       "      <td>1</td>\n",
       "      <td>強み_名詞-一般</td>\n",
       "      <td>強み</td>\n",
       "    </tr>\n",
       "    <tr>\n",
       "      <th>3</th>\n",
       "      <td>1</td>\n",
       "      <td>店舗_名詞-一般</td>\n",
       "      <td>店舗</td>\n",
       "    </tr>\n",
       "    <tr>\n",
       "      <th>4</th>\n",
       "      <td>1</td>\n",
       "      <td>強み_名詞-一般</td>\n",
       "      <td>強み</td>\n",
       "    </tr>\n",
       "    <tr>\n",
       "      <th>5</th>\n",
       "      <td>2</td>\n",
       "      <td>弱み_名詞-一般</td>\n",
       "      <td>弱み</td>\n",
       "    </tr>\n",
       "    <tr>\n",
       "      <th>6</th>\n",
       "      <td>2</td>\n",
       "      <td>真珠_名詞-一般</td>\n",
       "      <td>真珠</td>\n",
       "    </tr>\n",
       "    <tr>\n",
       "      <th>7</th>\n",
       "      <td>2</td>\n",
       "      <td>店舗_名詞-一般</td>\n",
       "      <td>店舗</td>\n",
       "    </tr>\n",
       "    <tr>\n",
       "      <th>8</th>\n",
       "      <td>2</td>\n",
       "      <td>手薄_名詞-一般</td>\n",
       "      <td>手薄</td>\n",
       "    </tr>\n",
       "    <tr>\n",
       "      <th>9</th>\n",
       "      <td>3</td>\n",
       "      <td>天候_名詞-一般</td>\n",
       "      <td>天候</td>\n",
       "    </tr>\n",
       "    <tr>\n",
       "      <th>10</th>\n",
       "      <td>3</td>\n",
       "      <td>天候_名詞-一般</td>\n",
       "      <td>天候</td>\n",
       "    </tr>\n",
       "    <tr>\n",
       "      <th>11</th>\n",
       "      <td>3</td>\n",
       "      <td>真珠_名詞-一般</td>\n",
       "      <td>真珠</td>\n",
       "    </tr>\n",
       "    <tr>\n",
       "      <th>12</th>\n",
       "      <td>3</td>\n",
       "      <td>弱み。_名詞-一般</td>\n",
       "      <td>弱み</td>\n",
       "    </tr>\n",
       "  </tbody>\n",
       "</table>\n",
       "</div>"
      ],
      "text/plain": [
       "    id        単語×品詞  単語\n",
       "0    1  弱み&標準_名詞-一般  弱み\n",
       "1    1     弱み_名詞-一般  弱み\n",
       "2    1     強み_名詞-一般  強み\n",
       "3    1     店舗_名詞-一般  店舗\n",
       "4    1     強み_名詞-一般  強み\n",
       "5    2     弱み_名詞-一般  弱み\n",
       "6    2     真珠_名詞-一般  真珠\n",
       "7    2     店舗_名詞-一般  店舗\n",
       "8    2     手薄_名詞-一般  手薄\n",
       "9    3     天候_名詞-一般  天候\n",
       "10   3     天候_名詞-一般  天候\n",
       "11   3     真珠_名詞-一般  真珠\n",
       "12   3    弱み。_名詞-一般  弱み"
      ]
     },
     "execution_count": 2,
     "metadata": {},
     "output_type": "execute_result"
    }
   ],
   "source": [
    "df = pd.read_excel('pivot_table_test2.xlsx')\n",
    "df.columns = ['id', '単語×品詞', '単語']\n",
    "df"
   ]
  },
  {
   "cell_type": "markdown",
   "metadata": {},
   "source": [
    "## ID毎に単語をまとめる\n",
    "単語と単語の間に半角スペースを挿入する"
   ]
  },
  {
   "cell_type": "code",
   "execution_count": 3,
   "metadata": {
    "scrolled": true
   },
   "outputs": [
    {
     "data": {
      "text/html": [
       "<div>\n",
       "<style>\n",
       "    .dataframe thead tr:only-child th {\n",
       "        text-align: right;\n",
       "    }\n",
       "\n",
       "    .dataframe thead th {\n",
       "        text-align: left;\n",
       "    }\n",
       "\n",
       "    .dataframe tbody tr th {\n",
       "        vertical-align: top;\n",
       "    }\n",
       "</style>\n",
       "<table border=\"1\" class=\"dataframe\">\n",
       "  <thead>\n",
       "    <tr style=\"text-align: right;\">\n",
       "      <th></th>\n",
       "      <th>id</th>\n",
       "      <th>split_words</th>\n",
       "    </tr>\n",
       "  </thead>\n",
       "  <tbody>\n",
       "    <tr>\n",
       "      <th>0</th>\n",
       "      <td>1</td>\n",
       "      <td>弱み&amp;標準_名詞-一般 弱み_名詞-一般 強み_名詞-一般 店舗_名詞-一般 強み_名詞-一般</td>\n",
       "    </tr>\n",
       "    <tr>\n",
       "      <th>1</th>\n",
       "      <td>2</td>\n",
       "      <td>弱み_名詞-一般 真珠_名詞-一般 店舗_名詞-一般 手薄_名詞-一般</td>\n",
       "    </tr>\n",
       "    <tr>\n",
       "      <th>2</th>\n",
       "      <td>3</td>\n",
       "      <td>天候_名詞-一般 天候_名詞-一般 真珠_名詞-一般 弱み。_名詞-一般</td>\n",
       "    </tr>\n",
       "  </tbody>\n",
       "</table>\n",
       "</div>"
      ],
      "text/plain": [
       "   id                                      split_words\n",
       "0   1  弱み&標準_名詞-一般 弱み_名詞-一般 強み_名詞-一般 店舗_名詞-一般 強み_名詞-一般\n",
       "1   2              弱み_名詞-一般 真珠_名詞-一般 店舗_名詞-一般 手薄_名詞-一般\n",
       "2   3             天候_名詞-一般 天候_名詞-一般 真珠_名詞-一般 弱み。_名詞-一般"
      ]
     },
     "execution_count": 3,
     "metadata": {},
     "output_type": "execute_result"
    }
   ],
   "source": [
    "summary_df = df.groupby('id')['単語×品詞'].apply(lambda x: ' '.join(map(str, x)))\\\n",
    ".reset_index().rename(columns={'単語×品詞':'split_words'})\n",
    "\n",
    "summary_df"
   ]
  },
  {
   "cell_type": "markdown",
   "metadata": {},
   "source": [
    "# TFIDFの算出(TfidfVectorizerを使用)"
   ]
  },
  {
   "cell_type": "code",
   "execution_count": 4,
   "metadata": {},
   "outputs": [
    {
     "data": {
      "text/plain": [
       "['天候_名詞-一般',\n",
       " '店舗_名詞-一般',\n",
       " '弱み&標準_名詞-一般',\n",
       " '弱み_名詞-一般',\n",
       " '弱み。_名詞-一般',\n",
       " '強み_名詞-一般',\n",
       " '手薄_名詞-一般',\n",
       " '真珠_名詞-一般']"
      ]
     },
     "execution_count": 4,
     "metadata": {},
     "output_type": "execute_result"
    }
   ],
   "source": [
    "# 単語と単語を半角スペースで分割(=token_pattern=r'\\b[^\\d\\ ]+\\b')\n",
    "# デフォルトだと「&」や「_」で分割されてしまうので上記表現に変更する\n",
    "# 参考URL：https://datascience.stackexchange.com/questions/29352/sklearn-countvectorizer-token-pattern-skip-token-if-pattern-match\n",
    "vectorizer= TfidfVectorizer(token_pattern=r'\\b[^\\d\\ ]+\\b')\n",
    "\n",
    "# TfidfVectorizerを利用して単語と列番号の対応付けを実行 Document-Term Matrixを獲得できる\n",
    "tfidf_feature_vectors = vectorizer.fit_transform(summary_df['split_words'])\n",
    "\n",
    "# どの単語を学習しているのかをvectorizer.get_feature_names()で確認できる\n",
    "# 後にデータフレームを作成する際にカラムとして使用する準備\n",
    "tfidf_vocabulary = vectorizer.get_feature_names()\n",
    "\n",
    "tfidf_vocabulary"
   ]
  },
  {
   "cell_type": "code",
   "execution_count": 5,
   "metadata": {},
   "outputs": [
    {
     "data": {
      "text/plain": [
       "8"
      ]
     },
     "execution_count": 5,
     "metadata": {},
     "output_type": "execute_result"
    }
   ],
   "source": [
    "df['単語×品詞'].nunique()"
   ]
  },
  {
   "cell_type": "code",
   "execution_count": 6,
   "metadata": {
    "scrolled": true
   },
   "outputs": [
    {
     "data": {
      "text/plain": [
       "['手薄_名詞-一般',\n",
       " '天候_名詞-一般',\n",
       " '店舗_名詞-一般',\n",
       " '強み_名詞-一般',\n",
       " '真珠_名詞-一般',\n",
       " '弱み_名詞-一般',\n",
       " '弱み。_名詞-一般',\n",
       " '弱み&標準_名詞-一般']"
      ]
     },
     "execution_count": 6,
     "metadata": {},
     "output_type": "execute_result"
    }
   ],
   "source": [
    "# ['単語×品詞']カラム重複なし単語\n",
    "list(set(df['単語×品詞'].tolist()))"
   ]
  },
  {
   "cell_type": "markdown",
   "metadata": {},
   "source": [
    "# BoW作成"
   ]
  },
  {
   "cell_type": "code",
   "execution_count": 7,
   "metadata": {},
   "outputs": [
    {
     "data": {
      "text/html": [
       "<div>\n",
       "<style>\n",
       "    .dataframe thead tr:only-child th {\n",
       "        text-align: right;\n",
       "    }\n",
       "\n",
       "    .dataframe thead th {\n",
       "        text-align: left;\n",
       "    }\n",
       "\n",
       "    .dataframe tbody tr th {\n",
       "        vertical-align: top;\n",
       "    }\n",
       "</style>\n",
       "<table border=\"1\" class=\"dataframe\">\n",
       "  <thead>\n",
       "    <tr style=\"text-align: right;\">\n",
       "      <th></th>\n",
       "      <th>天候_名詞-一般</th>\n",
       "      <th>店舗_名詞-一般</th>\n",
       "      <th>弱み&amp;標準_名詞-一般</th>\n",
       "      <th>弱み_名詞-一般</th>\n",
       "      <th>弱み。_名詞-一般</th>\n",
       "      <th>強み_名詞-一般</th>\n",
       "      <th>手薄_名詞-一般</th>\n",
       "      <th>真珠_名詞-一般</th>\n",
       "    </tr>\n",
       "    <tr>\n",
       "      <th>id</th>\n",
       "      <th></th>\n",
       "      <th></th>\n",
       "      <th></th>\n",
       "      <th></th>\n",
       "      <th></th>\n",
       "      <th></th>\n",
       "      <th></th>\n",
       "      <th></th>\n",
       "    </tr>\n",
       "  </thead>\n",
       "  <tbody>\n",
       "    <tr>\n",
       "      <th>1</th>\n",
       "      <td>0.000000</td>\n",
       "      <td>0.306504</td>\n",
       "      <td>0.403016</td>\n",
       "      <td>0.306504</td>\n",
       "      <td>0.000000</td>\n",
       "      <td>0.806032</td>\n",
       "      <td>0.000000</td>\n",
       "      <td>0.000000</td>\n",
       "    </tr>\n",
       "    <tr>\n",
       "      <th>2</th>\n",
       "      <td>0.000000</td>\n",
       "      <td>0.459854</td>\n",
       "      <td>0.000000</td>\n",
       "      <td>0.459854</td>\n",
       "      <td>0.000000</td>\n",
       "      <td>0.000000</td>\n",
       "      <td>0.604652</td>\n",
       "      <td>0.459854</td>\n",
       "    </tr>\n",
       "    <tr>\n",
       "      <th>3</th>\n",
       "      <td>0.846789</td>\n",
       "      <td>0.000000</td>\n",
       "      <td>0.000000</td>\n",
       "      <td>0.000000</td>\n",
       "      <td>0.423394</td>\n",
       "      <td>0.000000</td>\n",
       "      <td>0.000000</td>\n",
       "      <td>0.322002</td>\n",
       "    </tr>\n",
       "  </tbody>\n",
       "</table>\n",
       "</div>"
      ],
      "text/plain": [
       "    天候_名詞-一般  店舗_名詞-一般  弱み&標準_名詞-一般  弱み_名詞-一般  弱み。_名詞-一般  強み_名詞-一般  手薄_名詞-一般  \\\n",
       "id                                                                             \n",
       "1   0.000000  0.306504     0.403016  0.306504   0.000000  0.806032  0.000000   \n",
       "2   0.000000  0.459854     0.000000  0.459854   0.000000  0.000000  0.604652   \n",
       "3   0.846789  0.000000     0.000000  0.000000   0.423394  0.000000  0.000000   \n",
       "\n",
       "    真珠_名詞-一般  \n",
       "id            \n",
       "1   0.000000  \n",
       "2   0.459854  \n",
       "3   0.322002  "
      ]
     },
     "execution_count": 7,
     "metadata": {},
     "output_type": "execute_result"
    }
   ],
   "source": [
    "tfidf_df = pd.DataFrame(tfidf_feature_vectors.toarray(), index=summary_df['id'],  columns=tfidf_vocabulary)\n",
    "\n",
    "# 確認\n",
    "tfidf_df"
   ]
  },
  {
   "cell_type": "code",
   "execution_count": null,
   "metadata": {
    "collapsed": true
   },
   "outputs": [],
   "source": []
  }
 ],
 "metadata": {
  "kernelspec": {
   "display_name": "Python 3",
   "language": "python",
   "name": "python3"
  },
  "language_info": {
   "codemirror_mode": {
    "name": "ipython",
    "version": 3
   },
   "file_extension": ".py",
   "mimetype": "text/x-python",
   "name": "python",
   "nbconvert_exporter": "python",
   "pygments_lexer": "ipython3",
   "version": "3.6.3"
  }
 },
 "nbformat": 4,
 "nbformat_minor": 2
}
