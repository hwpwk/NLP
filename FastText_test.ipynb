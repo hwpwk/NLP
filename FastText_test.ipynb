{
 "cells": [
  {
   "cell_type": "code",
   "execution_count": 1,
   "metadata": {},
   "outputs": [],
   "source": [
    "# ファイル操作\n",
    "import pickle\n",
    "\n",
    "# model作成\n",
    "import gensim\n",
    "from gensim.models.fasttext import FastText"
   ]
  },
  {
   "cell_type": "code",
   "execution_count": 2,
   "metadata": {},
   "outputs": [],
   "source": [
    "# FastText.load('モデルファイル名')で学習済みモデルを使用できる\n",
    "FastText_model = FastText.load(\"wiki_FastText_model2.pkl\")"
   ]
  },
  {
   "cell_type": "code",
   "execution_count": 3,
   "metadata": {},
   "outputs": [
    {
     "name": "stderr",
     "output_type": "stream",
     "text": [
      "/anaconda3/lib/python3.6/site-packages/ipykernel_launcher.py:1: DeprecationWarning: Call to deprecated `most_similar` (Method will be removed in 4.0.0, use self.wv.most_similar() instead).\n",
      "  \"\"\"Entry point for launching an IPython kernel.\n",
      "/anaconda3/lib/python3.6/site-packages/gensim/matutils.py:737: FutureWarning: Conversion of the second argument of issubdtype from `int` to `np.signedinteger` is deprecated. In future, it will be treated as `np.int64 == np.dtype(int).type`.\n",
      "  if np.issubdtype(vec.dtype, np.int):\n"
     ]
    },
    {
     "data": {
      "text/plain": [
       "[('大型商業施設', 0.6097549200057983),\n",
       " ('ｲｵﾝﾓｰﾙ', 0.5833367705345154),\n",
       " ('ｲﾄｰﾖｰｶ', 0.5617502927780151),\n",
       " ('商業施設', 0.5516558885574341),\n",
       " ('ｲﾄｰﾖｰｶﾄﾞｰ', 0.5447053909301758),\n",
       " ('みんなの党', 0.5436890125274658),\n",
       " ('ｱﾋﾟﾀ', 0.5394482612609863),\n",
       " ('出店', 0.5384876728057861),\n",
       " ('ｲｵﾝｼｮｯﾋﾟﾝｸﾞｾﾝﾀｰ', 0.535384476184845),\n",
       " ('自民党東京都連', 0.5338002443313599)]"
      ]
     },
     "execution_count": 3,
     "metadata": {},
     "output_type": "execute_result"
    }
   ],
   "source": [
    "# 似ている単語を抽出\n",
    "FastText_model.most_similar('M&A')"
   ]
  },
  {
   "cell_type": "code",
   "execution_count": 7,
   "metadata": {},
   "outputs": [
    {
     "name": "stderr",
     "output_type": "stream",
     "text": [
      "/anaconda3/lib/python3.6/site-packages/ipykernel_launcher.py:1: DeprecationWarning: Call to deprecated `most_similar` (Method will be removed in 4.0.0, use self.wv.most_similar() instead).\n",
      "  \"\"\"Entry point for launching an IPython kernel.\n",
      "/anaconda3/lib/python3.6/site-packages/gensim/matutils.py:737: FutureWarning: Conversion of the second argument of issubdtype from `int` to `np.signedinteger` is deprecated. In future, it will be treated as `np.int64 == np.dtype(int).type`.\n",
      "  if np.issubdtype(vec.dtype, np.int):\n"
     ]
    },
    {
     "data": {
      "text/plain": [
       "[('女王様', 0.740532636642456),\n",
       " ('裸の王様', 0.6795383095741272),\n",
       " ('赤の女王', 0.6791205406188965),\n",
       " ('王さま', 0.6674755811691284),\n",
       " ('妖精の女王', 0.6600830554962158),\n",
       " ('白雪姫', 0.6517146825790405),\n",
       " ('お姫さま', 0.6380954384803772),\n",
       " ('花嫁', 0.6302691698074341),\n",
       " ('貴女', 0.6283981800079346),\n",
       " ('妻たち', 0.6262462139129639)]"
      ]
     },
     "execution_count": 7,
     "metadata": {},
     "output_type": "execute_result"
    }
   ],
   "source": [
    "# 「王様」 +　「女性」　ー「男性」　という演算をした時にどの単語に類似するかを確認\n",
    "FastText_model.most_similar(positive=['王様', '女性'], negative=['男性'])"
   ]
  },
  {
   "cell_type": "code",
   "execution_count": 4,
   "metadata": {
    "scrolled": true
   },
   "outputs": [
    {
     "name": "stderr",
     "output_type": "stream",
     "text": [
      "/anaconda3/lib/python3.6/site-packages/ipykernel_launcher.py:1: DeprecationWarning: Call to deprecated `most_similar` (Method will be removed in 4.0.0, use self.wv.most_similar() instead).\n",
      "  \"\"\"Entry point for launching an IPython kernel.\n",
      "/anaconda3/lib/python3.6/site-packages/gensim/matutils.py:737: FutureWarning: Conversion of the second argument of issubdtype from `int` to `np.signedinteger` is deprecated. In future, it will be treated as `np.int64 == np.dtype(int).type`.\n",
      "  if np.issubdtype(vec.dtype, np.int):\n"
     ]
    },
    {
     "data": {
      "text/plain": [
       "[('Holdings', 0.6073654890060425),\n",
       " ('子会社', 0.6045883893966675),\n",
       " ('ｺﾝｸﾞﾛﾏﾘｯﾄ', 0.5884465575218201),\n",
       " ('最大手', 0.5826492309570312),\n",
       " ('分社', 0.575966477394104),\n",
       " ('Corporate', 0.5731944441795349),\n",
       " ('企業買収', 0.5713863372802734),\n",
       " ('完全子会社', 0.5707172751426697),\n",
       " ('Corporation', 0.5680564641952515),\n",
       " ('Inc', 0.5669873356819153)]"
      ]
     },
     "execution_count": 4,
     "metadata": {},
     "output_type": "execute_result"
    }
   ],
   "source": [
    "FastText_model.most_similar(positive=['買収', 'シナジー'], negative=['見送り'])"
   ]
  },
  {
   "cell_type": "code",
   "execution_count": 5,
   "metadata": {},
   "outputs": [
    {
     "name": "stderr",
     "output_type": "stream",
     "text": [
      "/anaconda3/lib/python3.6/site-packages/ipykernel_launcher.py:1: DeprecationWarning: Call to deprecated `most_similar` (Method will be removed in 4.0.0, use self.wv.most_similar() instead).\n",
      "  \"\"\"Entry point for launching an IPython kernel.\n",
      "/anaconda3/lib/python3.6/site-packages/gensim/matutils.py:737: FutureWarning: Conversion of the second argument of issubdtype from `int` to `np.signedinteger` is deprecated. In future, it will be treated as `np.int64 == np.dtype(int).type`.\n",
      "  if np.issubdtype(vec.dtype, np.int):\n"
     ]
    },
    {
     "data": {
      "text/plain": [
       "[('企業買収', 0.654797375202179),\n",
       " ('子会社', 0.5849938988685608),\n",
       " ('Corporate', 0.5817282795906067),\n",
       " ('Corporation', 0.5785510540008545),\n",
       " ('ｺﾝｸﾞﾛﾏﾘｯﾄ', 0.5740517377853394),\n",
       " ('半導体事業', 0.5735641121864319),\n",
       " ('鉱山開発', 0.5706576108932495),\n",
       " ('北西会社', 0.5680798292160034),\n",
       " ('投資銀行家', 0.567902684211731),\n",
       " ('Corp', 0.5677668452262878)]"
      ]
     },
     "execution_count": 5,
     "metadata": {},
     "output_type": "execute_result"
    }
   ],
   "source": [
    "FastText_model.most_similar(positive=['買収'], negative=['シナジー', '見送り'])"
   ]
  },
  {
   "cell_type": "code",
   "execution_count": null,
   "metadata": {},
   "outputs": [],
   "source": []
  }
 ],
 "metadata": {
  "kernelspec": {
   "display_name": "Python 3",
   "language": "python",
   "name": "python3"
  },
  "language_info": {
   "codemirror_mode": {
    "name": "ipython",
    "version": 3
   },
   "file_extension": ".py",
   "mimetype": "text/x-python",
   "name": "python",
   "nbconvert_exporter": "python",
   "pygments_lexer": "ipython3",
   "version": "3.6.5"
  }
 },
 "nbformat": 4,
 "nbformat_minor": 2
}
