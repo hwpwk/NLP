{
 "cells": [
  {
   "cell_type": "code",
   "execution_count": 1,
   "metadata": {},
   "outputs": [],
   "source": [
    "import pandas as pd\n",
    "import numpy as np\n",
    "\n",
    "# 可視化用のライブラリ\n",
    "from matplotlib import pyplot as plt\n",
    "import seaborn as sns\n",
    "%matplotlib inline\n",
    "\n",
    "import neologdn\n",
    "import MeCab\n",
    "\n",
    "import re\n",
    "\n",
    "from tqdm import tqdm_notebook as tqdm\n",
    "from tqdm._tqdm_notebook import tqdm_notebook\n",
    "# # プログレスバーのラベル設定\n",
    "tqdm_notebook.pandas(desc=\"progress: \")"
   ]
  },
  {
   "cell_type": "code",
   "execution_count": 2,
   "metadata": {
    "scrolled": true
   },
   "outputs": [
    {
     "data": {
      "text/html": [
       "<div>\n",
       "<style scoped>\n",
       "    .dataframe tbody tr th:only-of-type {\n",
       "        vertical-align: middle;\n",
       "    }\n",
       "\n",
       "    .dataframe tbody tr th {\n",
       "        vertical-align: top;\n",
       "    }\n",
       "\n",
       "    .dataframe thead th {\n",
       "        text-align: right;\n",
       "    }\n",
       "</style>\n",
       "<table border=\"1\" class=\"dataframe\">\n",
       "  <thead>\n",
       "    <tr style=\"text-align: right;\">\n",
       "      <th></th>\n",
       "      <th>text</th>\n",
       "      <th>posi_nega</th>\n",
       "    </tr>\n",
       "  </thead>\n",
       "  <tbody>\n",
       "    <tr>\n",
       "      <th>0</th>\n",
       "      <td>案件個別の技術相談乗ってます！乗ります</td>\n",
       "      <td>1</td>\n",
       "    </tr>\n",
       "    <tr>\n",
       "      <th>1</th>\n",
       "      <td>勉強とお仕事が有機的に繋がっていて面白い。</td>\n",
       "      <td>1</td>\n",
       "    </tr>\n",
       "    <tr>\n",
       "      <th>2</th>\n",
       "      <td>次々とテクニックを教えていただき、ためになりました</td>\n",
       "      <td>1</td>\n",
       "    </tr>\n",
       "    <tr>\n",
       "      <th>3</th>\n",
       "      <td>お肉がキレイに焼けたことに小さなしあわせを感じた</td>\n",
       "      <td>1</td>\n",
       "    </tr>\n",
       "    <tr>\n",
       "      <th>4</th>\n",
       "      <td>これが私の最適化</td>\n",
       "      <td>1</td>\n",
       "    </tr>\n",
       "  </tbody>\n",
       "</table>\n",
       "</div>"
      ],
      "text/plain": [
       "                        text  posi_nega\n",
       "0        案件個別の技術相談乗ってます！乗ります          1\n",
       "1      勉強とお仕事が有機的に繋がっていて面白い。          1\n",
       "2  次々とテクニックを教えていただき、ためになりました          1\n",
       "3   お肉がキレイに焼けたことに小さなしあわせを感じた          1\n",
       "4                   これが私の最適化          1"
      ]
     },
     "execution_count": 2,
     "metadata": {},
     "output_type": "execute_result"
    }
   ],
   "source": [
    "df = pd.read_pickle('posi_nega_alldata.pkl')\n",
    "df.head()"
   ]
  },
  {
   "cell_type": "markdown",
   "metadata": {},
   "source": [
    "## 単語を形態素解析しリストに格納、リストに格納した単語をスペースで区切り文字列型に変換する関数を定義"
   ]
  },
  {
   "cell_type": "code",
   "execution_count": 3,
   "metadata": {},
   "outputs": [],
   "source": [
    "'''単語を形態素解析しリストに格納、リストに格納した単語をスペースで区切り文字列型に変換する関数'''\n",
    "def get_mecabed_words_text(text):\n",
    "    if not isinstance(text, str):\n",
    "        pass\n",
    "    else:\n",
    "        sentence_normalization = neologdn.normalize(text)\n",
    "        neologd_tagger = MeCab.Tagger('-Ochasen -d /usr/local/lib/mecab/dic/mecab-ipadic-neologd')\n",
    "        # neologd_tagger.parse(text)で各単語の原形、品詞などが1行で連続して表示される\n",
    "        # 原形、品詞などの間には「\\t」が、分かち書きされた単語と単語の区切りには「\\n」が表示される\n",
    "        # 例: '空い\\tアイ\\t空く\\t動詞-自立\\t五段・カ行イ音便\\t連用タ接続\\nた\\tタ\\tた\\t助動詞\\t特殊・タ\\t基本形\\n時間....\n",
    "        # まずはparse()で分かち書きした単語群は1つの文字列型になっているので「\\n」で区切り、リスト型にする\n",
    "        wakati_text_list = neologd_tagger.parse(sentence_normalization).split('\\n')\n",
    "        # 「\\n」で区切り、リスト型にした結果の例は下記\n",
    "        # ['空い\\tアイ\\t空く\\t動詞-自立\\t五段・カ行イ音便\\t連用タ接続', ：リスト0番目\n",
    "        # 'た\\tタ\\tた\\t助動詞\\t特殊・タ\\t基本形',：リスト1番目\n",
    "        # '時間\\tジカン\\t時間\\t名詞-副詞可能\\t\\t',：リスト2番目\n",
    "\n",
    "        original_form_list =[]# 単語の「原形」のみ格納する(品詞情報は単語頻度を求める際に必要ないので除外)\n",
    "\n",
    "        # parse() の出力結果の最後は「EOS」という文字のみ\n",
    "        # EOSのとき、pos = wakati.split('\\t')[3]の要素はないので下記forループを実行すると「list index out of range」とエラーを発生させてしまう\n",
    "        # よってEOSのときは条件分岐if~breakでforループから抜け出すよう記述\n",
    "        for wakati in wakati_text_list:\n",
    "            surface = wakati.split('\\t')[0]\n",
    "            if surface == 'EOS':\n",
    "                break\n",
    "            else:\n",
    "                word = wakati.split('\\t')[2]\n",
    "                original_form_list.append(word)\n",
    "\n",
    "        return ' '.join(original_form_list)"
   ]
  },
  {
   "cell_type": "markdown",
   "metadata": {},
   "source": [
    "## 全文章に対し形態素解析、文章毎に出力された単語をスペースで区切り、格納\n",
    "上記関数を実行する"
   ]
  },
  {
   "cell_type": "code",
   "execution_count": 4,
   "metadata": {},
   "outputs": [
    {
     "data": {
      "application/vnd.jupyter.widget-view+json": {
       "model_id": "55ce77ab814e46ce80cf8ba4aebb69a1",
       "version_major": 2,
       "version_minor": 0
      },
      "text/plain": [
       "HBox(children=(IntProgress(value=0, description='progress: ', max=50), HTML(value='')))"
      ]
     },
     "metadata": {},
     "output_type": "display_data"
    },
    {
     "name": "stdout",
     "output_type": "stream",
     "text": [
      "\n"
     ]
    },
    {
     "data": {
      "text/html": [
       "<div>\n",
       "<style scoped>\n",
       "    .dataframe tbody tr th:only-of-type {\n",
       "        vertical-align: middle;\n",
       "    }\n",
       "\n",
       "    .dataframe tbody tr th {\n",
       "        vertical-align: top;\n",
       "    }\n",
       "\n",
       "    .dataframe thead th {\n",
       "        text-align: right;\n",
       "    }\n",
       "</style>\n",
       "<table border=\"1\" class=\"dataframe\">\n",
       "  <thead>\n",
       "    <tr style=\"text-align: right;\">\n",
       "      <th></th>\n",
       "      <th>text</th>\n",
       "      <th>posi_nega</th>\n",
       "      <th>wakati</th>\n",
       "    </tr>\n",
       "  </thead>\n",
       "  <tbody>\n",
       "    <tr>\n",
       "      <th>0</th>\n",
       "      <td>案件個別の技術相談乗ってます！乗ります</td>\n",
       "      <td>1</td>\n",
       "      <td>案件 個別 の 技術 相談 乗る て ます ! 乗る ます</td>\n",
       "    </tr>\n",
       "    <tr>\n",
       "      <th>1</th>\n",
       "      <td>勉強とお仕事が有機的に繋がっていて面白い。</td>\n",
       "      <td>1</td>\n",
       "      <td>勉強 と お仕事 が 有機的 に 繋がる て いる て 面白い 。</td>\n",
       "    </tr>\n",
       "    <tr>\n",
       "      <th>2</th>\n",
       "      <td>次々とテクニックを教えていただき、ためになりました</td>\n",
       "      <td>1</td>\n",
       "      <td>次々 と テクニック を 教える て いただく 、 ため に なる ます た</td>\n",
       "    </tr>\n",
       "    <tr>\n",
       "      <th>3</th>\n",
       "      <td>お肉がキレイに焼けたことに小さなしあわせを感じた</td>\n",
       "      <td>1</td>\n",
       "      <td>お肉。 が キレイ に 焼ける た こと に 小さな しあわせ を 感じる た</td>\n",
       "    </tr>\n",
       "    <tr>\n",
       "      <th>4</th>\n",
       "      <td>これが私の最適化</td>\n",
       "      <td>1</td>\n",
       "      <td>これ が 私 の 最適化</td>\n",
       "    </tr>\n",
       "  </tbody>\n",
       "</table>\n",
       "</div>"
      ],
      "text/plain": [
       "                        text  posi_nega  \\\n",
       "0        案件個別の技術相談乗ってます！乗ります          1   \n",
       "1      勉強とお仕事が有機的に繋がっていて面白い。          1   \n",
       "2  次々とテクニックを教えていただき、ためになりました          1   \n",
       "3   お肉がキレイに焼けたことに小さなしあわせを感じた          1   \n",
       "4                   これが私の最適化          1   \n",
       "\n",
       "                                    wakati  \n",
       "0            案件 個別 の 技術 相談 乗る て ます ! 乗る ます  \n",
       "1        勉強 と お仕事 が 有機的 に 繋がる て いる て 面白い 。  \n",
       "2   次々 と テクニック を 教える て いただく 、 ため に なる ます た  \n",
       "3  お肉。 が キレイ に 焼ける た こと に 小さな しあわせ を 感じる た  \n",
       "4                             これ が 私 の 最適化  "
      ]
     },
     "execution_count": 4,
     "metadata": {},
     "output_type": "execute_result"
    }
   ],
   "source": [
    "# [text]カラムの全行に対してget_mecabed_words_text関数を実行\n",
    "# 文章毎に形態素解析結果が[案件 個別 の 技術]　といった単語間のスペース入りの文字列形式で格納される\n",
    "# 今回apply関数をSeries型（text_df['text']）に対して使用するためaxis=1を引数に与えない\n",
    "df['wakati'] = df['text'].progress_apply(get_mecabed_words_text)\n",
    "df.head()"
   ]
  },
  {
   "cell_type": "code",
   "execution_count": null,
   "metadata": {},
   "outputs": [],
   "source": []
  }
 ],
 "metadata": {
  "kernelspec": {
   "display_name": "Python 3",
   "language": "python",
   "name": "python3"
  },
  "language_info": {
   "codemirror_mode": {
    "name": "ipython",
    "version": 3
   },
   "file_extension": ".py",
   "mimetype": "text/x-python",
   "name": "python",
   "nbconvert_exporter": "python",
   "pygments_lexer": "ipython3",
   "version": "3.6.5"
  }
 },
 "nbformat": 4,
 "nbformat_minor": 2
}
