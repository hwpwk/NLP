{
 "cells": [
  {
   "cell_type": "markdown",
   "metadata": {},
   "source": [
    "- pip install zenhan\n",
    "\n",
    "でzenhanをインストールする"
   ]
  },
  {
   "cell_type": "code",
   "execution_count": 1,
   "metadata": {
    "collapsed": true
   },
   "outputs": [],
   "source": [
    "import zenhan"
   ]
  },
  {
   "cell_type": "code",
   "execution_count": 2,
   "metadata": {
    "collapsed": true
   },
   "outputs": [],
   "source": [
    "zenkaku_text = \"ｐｙｔｈｏｎ パイソン １０００\""
   ]
  },
  {
   "cell_type": "code",
   "execution_count": 3,
   "metadata": {},
   "outputs": [
    {
     "data": {
      "text/plain": [
       "'python ﾊﾟｲｿﾝ 1000'"
      ]
     },
     "execution_count": 3,
     "metadata": {},
     "output_type": "execute_result"
    }
   ],
   "source": [
    "hankaku_text = zenhan.z2h(zenkaku_text)\n",
    "hankaku_text"
   ]
  },
  {
   "cell_type": "markdown",
   "metadata": {},
   "source": [
    "オプション\n",
    "\n",
    "http://mocharesearch.tumblr.com/post/128696982634/python%E3%81%A7%E5%85%A8%E8%A7%92%E5%8D%8A%E8%A7%92%E5%87%A6%E7%90%86-zenhan\n",
    "\n",
    "を参考にする"
   ]
  },
  {
   "cell_type": "code",
   "execution_count": 4,
   "metadata": {},
   "outputs": [
    {
     "data": {
      "text/plain": [
       "'python パイソン １０００'"
      ]
     },
     "execution_count": 4,
     "metadata": {},
     "output_type": "execute_result"
    }
   ],
   "source": [
    "# mode=1:英文字と記号が半角\n",
    "hankaku_text = zenhan.z2h(zenkaku_text, mode = 1)\n",
    "hankaku_text"
   ]
  },
  {
   "cell_type": "code",
   "execution_count": 5,
   "metadata": {},
   "outputs": [
    {
     "data": {
      "text/plain": [
       "'ｐｙｔｈｏｎ パイソン 1000'"
      ]
     },
     "execution_count": 5,
     "metadata": {},
     "output_type": "execute_result"
    }
   ],
   "source": [
    "# mode=2:数字のみ半角\n",
    "hankaku_text = zenhan.z2h(zenkaku_text, mode = 2)\n",
    "hankaku_text"
   ]
  },
  {
   "cell_type": "code",
   "execution_count": 6,
   "metadata": {},
   "outputs": [
    {
     "data": {
      "text/plain": [
       "'python パイソン 1000'"
      ]
     },
     "execution_count": 6,
     "metadata": {},
     "output_type": "execute_result"
    }
   ],
   "source": [
    "# mode=3:英文字＆数字＆記号が半角\n",
    "hankaku_text = zenhan.z2h(zenkaku_text, mode = 3)\n",
    "hankaku_text"
   ]
  },
  {
   "cell_type": "code",
   "execution_count": 7,
   "metadata": {},
   "outputs": [
    {
     "data": {
      "text/plain": [
       "'ｐｙｔｈｏｎ ﾊﾟｲｿﾝ １０００'"
      ]
     },
     "execution_count": 7,
     "metadata": {},
     "output_type": "execute_result"
    }
   ],
   "source": [
    "# mode=4:カタカナのみ半角\n",
    "hankaku_text = zenhan.z2h(zenkaku_text, mode = 4)\n",
    "hankaku_text"
   ]
  },
  {
   "cell_type": "code",
   "execution_count": 8,
   "metadata": {},
   "outputs": [
    {
     "data": {
      "text/plain": [
       "'python ﾊﾟｲｿﾝ １０００'"
      ]
     },
     "execution_count": 8,
     "metadata": {},
     "output_type": "execute_result"
    }
   ],
   "source": [
    "# mode=5:英文字＆カタカナ＆記号が半角\n",
    "hankaku_text = zenhan.z2h(zenkaku_text, mode = 5)\n",
    "hankaku_text"
   ]
  },
  {
   "cell_type": "code",
   "execution_count": 9,
   "metadata": {},
   "outputs": [
    {
     "data": {
      "text/plain": [
       "'ｐｙｔｈｏｎ ﾊﾟｲｿﾝ 1000'"
      ]
     },
     "execution_count": 9,
     "metadata": {},
     "output_type": "execute_result"
    }
   ],
   "source": [
    "# mode=6:数字＆カタカナが半角\n",
    "hankaku_text = zenhan.z2h(zenkaku_text, mode = 6)\n",
    "hankaku_text"
   ]
  },
  {
   "cell_type": "code",
   "execution_count": 10,
   "metadata": {},
   "outputs": [
    {
     "data": {
      "text/plain": [
       "'python ﾊﾟｲｿﾝ 1000'"
      ]
     },
     "execution_count": 10,
     "metadata": {},
     "output_type": "execute_result"
    }
   ],
   "source": [
    "# mode=7:英文字&数字＆カタカナ&記号のすべてが半角\n",
    "hankaku_text = zenhan.z2h(zenkaku_text, mode = 7)\n",
    "hankaku_text"
   ]
  },
  {
   "cell_type": "code",
   "execution_count": null,
   "metadata": {
    "collapsed": true
   },
   "outputs": [],
   "source": []
  }
 ],
 "metadata": {
  "kernelspec": {
   "display_name": "Python 3",
   "language": "python",
   "name": "python3"
  },
  "language_info": {
   "codemirror_mode": {
    "name": "ipython",
    "version": 3
   },
   "file_extension": ".py",
   "mimetype": "text/x-python",
   "name": "python",
   "nbconvert_exporter": "python",
   "pygments_lexer": "ipython3",
   "version": "3.6.3"
  }
 },
 "nbformat": 4,
 "nbformat_minor": 2
}
