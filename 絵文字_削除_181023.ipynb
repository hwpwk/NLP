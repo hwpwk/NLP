{
 "cells": [
  {
   "cell_type": "code",
   "execution_count": 1,
   "metadata": {
    "collapsed": true
   },
   "outputs": [],
   "source": [
    "# 事前に pip install emoji を実行しておく\n",
    "import emoji"
   ]
  },
  {
   "cell_type": "markdown",
   "metadata": {},
   "source": [
    "### 絵文字を削除する関数1"
   ]
  },
  {
   "cell_type": "code",
   "execution_count": 2,
   "metadata": {
    "collapsed": true
   },
   "outputs": [],
   "source": [
    "# ifを含む内包表記はfor～if～と forから順に読んでいく\n",
    "# for c in emoji_text：emoji_textから1つずつ文字を取り出しcに格納する\n",
    "# if c not in emoji.UNICODE_EMOJI：もしcに格納した文字がemoji.UNICODE_EMOJIの中に入っていなければ\n",
    "# cをjoinする：''.join(c.......)\n",
    "# ''.joinすることで文字列型にすることができる\n",
    "# 空文字列を使えば[連結したい文字列のリスト]が単純連結される\n",
    "def remove_emoji(emoji_text):\n",
    "    return ''.join(c for c in emoji_text if c not in emoji.UNICODE_EMOJI)"
   ]
  },
  {
   "cell_type": "code",
   "execution_count": 3,
   "metadata": {},
   "outputs": [
    {
     "data": {
      "text/plain": [
       "':これらの絵文字が邪魔ですね'"
      ]
     },
     "execution_count": 3,
     "metadata": {},
     "output_type": "execute_result"
    }
   ],
   "source": [
    "emojis = '😀😁😂🍎🤗⭕🤓🤔🤘🦁⭐🆗🆖🈲🤐🤗🤖🤑🆙⏩:これらの😀😁😂絵文字🤗⭕🤓が邪魔ですね'\n",
    "remove_emoji(emojis)"
   ]
  },
  {
   "cell_type": "markdown",
   "metadata": {},
   "source": [
    "##### 参考URL：https://qiita.com/yoshimo123/items/85331d881aed9ad41020"
   ]
  },
  {
   "cell_type": "markdown",
   "metadata": {},
   "source": [
    "# 絵文字を削除する関数2\n",
    "こちらのほうが覚えやすいかも"
   ]
  },
  {
   "cell_type": "code",
   "execution_count": 4,
   "metadata": {
    "collapsed": true
   },
   "outputs": [],
   "source": [
    "# filter(function, iterable):filter関数は第1引数に条件、第2引数にイテラブルなオブジェクトを指定する\n",
    "# 組み込み関数filter()と無名関数lambda（ラムダ式）とをあわせて使うと、リストなどイテラブルなオブジェクトから特定の要素だけを抽出できる\n",
    "# 具体的にはiterable（第2引数）のうちfunction（第1引数）の返り値がFalseとなる要素がすべて除去されTrueとなる要素だけを抽出することが可能\n",
    "# 参考URL：https://it-engineer-lab.com/archives/124\n",
    "\n",
    "# イテラブルなオブジェクトはlist、tuple、range、str 、bytes、bytearray、memoryview、dict、ファイルオブジェクト\n",
    "# よって今回のemojis、emojis2はstr型なのでfilter関数の使用が可能\n",
    "# 参考URL：https://teratail.com/questions/113396\n",
    "\n",
    "# ''.joinすることで文字列型にすることができる\n",
    "# 空文字列を使えば[連結したい文字列のリスト]が単純連結される\n",
    "# ただし、数字が含まれている場合にそれが文字列型ではなく数値型として判断されてしまった場合、''.join(map(str, emoji))とmap関数を使用する必要あるかも\n",
    "\n",
    "def remove_emoji2(emoji_text):\n",
    "    return ''.join(filter(lambda x: x not in emoji.UNICODE_EMOJI, emoji_text))"
   ]
  },
  {
   "cell_type": "code",
   "execution_count": 5,
   "metadata": {},
   "outputs": [
    {
     "data": {
      "text/plain": [
       "':2回目ですがこれらの絵文字が邪魔ですね'"
      ]
     },
     "execution_count": 5,
     "metadata": {},
     "output_type": "execute_result"
    }
   ],
   "source": [
    "emojis2 = '😀😁😂🍎🤗⭕🤓🤔🤘🦁⭐🆗🆖🈲🤐🤗🤖🤑🆙⏩:2回目ですがこれらの😀😁😂絵文字🤗⭕🤓が邪魔ですね'\n",
    "remove_emoji2(emojis2)"
   ]
  },
  {
   "cell_type": "markdown",
   "metadata": {},
   "source": [
    "##### 参考URL：http://yukinoi.hatenablog.com/entry/2018/05/29/120000"
   ]
  },
  {
   "cell_type": "code",
   "execution_count": null,
   "metadata": {
    "collapsed": true
   },
   "outputs": [],
   "source": []
  }
 ],
 "metadata": {
  "kernelspec": {
   "display_name": "Python 3",
   "language": "python",
   "name": "python3"
  },
  "language_info": {
   "codemirror_mode": {
    "name": "ipython",
    "version": 3
   },
   "file_extension": ".py",
   "mimetype": "text/x-python",
   "name": "python",
   "nbconvert_exporter": "python",
   "pygments_lexer": "ipython3",
   "version": "3.6.3"
  }
 },
 "nbformat": 4,
 "nbformat_minor": 2
}
