{
 "cells": [
  {
   "cell_type": "code",
   "execution_count": 1,
   "metadata": {},
   "outputs": [],
   "source": [
    "import pandas as pd\n",
    "import numpy as np\n",
    "\n",
    "# 可視化用のライブラリ\n",
    "from matplotlib import pyplot as plt\n",
    "import seaborn as sns\n",
    "%matplotlib inline\n",
    "\n",
    "import neologdn\n",
    "import MeCab\n",
    "\n",
    "import re\n",
    "\n",
    "from tqdm import tqdm_notebook as tqdm\n",
    "from tqdm._tqdm_notebook import tqdm_notebook\n",
    "# # プログレスバーのラベル設定\n",
    "tqdm_notebook.pandas(desc=\"progress: \")"
   ]
  },
  {
   "cell_type": "code",
   "execution_count": 2,
   "metadata": {
    "scrolled": true
   },
   "outputs": [
    {
     "data": {
      "text/html": [
       "<div>\n",
       "<style scoped>\n",
       "    .dataframe tbody tr th:only-of-type {\n",
       "        vertical-align: middle;\n",
       "    }\n",
       "\n",
       "    .dataframe tbody tr th {\n",
       "        vertical-align: top;\n",
       "    }\n",
       "\n",
       "    .dataframe thead th {\n",
       "        text-align: right;\n",
       "    }\n",
       "</style>\n",
       "<table border=\"1\" class=\"dataframe\">\n",
       "  <thead>\n",
       "    <tr style=\"text-align: right;\">\n",
       "      <th></th>\n",
       "      <th>text</th>\n",
       "      <th>posi_nega</th>\n",
       "    </tr>\n",
       "  </thead>\n",
       "  <tbody>\n",
       "    <tr>\n",
       "      <th>0</th>\n",
       "      <td>案件個別の技術相談乗ってます！乗ります</td>\n",
       "      <td>1</td>\n",
       "    </tr>\n",
       "    <tr>\n",
       "      <th>1</th>\n",
       "      <td>勉強とお仕事が有機的に繋がっていて面白い。</td>\n",
       "      <td>1</td>\n",
       "    </tr>\n",
       "    <tr>\n",
       "      <th>2</th>\n",
       "      <td>次々とテクニックを教えていただき、ためになりました</td>\n",
       "      <td>1</td>\n",
       "    </tr>\n",
       "    <tr>\n",
       "      <th>3</th>\n",
       "      <td>お肉がキレイに焼けたことに小さなしあわせを感じた</td>\n",
       "      <td>1</td>\n",
       "    </tr>\n",
       "    <tr>\n",
       "      <th>4</th>\n",
       "      <td>これが私の最適化</td>\n",
       "      <td>1</td>\n",
       "    </tr>\n",
       "  </tbody>\n",
       "</table>\n",
       "</div>"
      ],
      "text/plain": [
       "                        text  posi_nega\n",
       "0        案件個別の技術相談乗ってます！乗ります          1\n",
       "1      勉強とお仕事が有機的に繋がっていて面白い。          1\n",
       "2  次々とテクニックを教えていただき、ためになりました          1\n",
       "3   お肉がキレイに焼けたことに小さなしあわせを感じた          1\n",
       "4                   これが私の最適化          1"
      ]
     },
     "execution_count": 2,
     "metadata": {},
     "output_type": "execute_result"
    }
   ],
   "source": [
    "df = pd.read_pickle('posi_nega_alldata.pkl')\n",
    "df.head()"
   ]
  },
  {
   "cell_type": "markdown",
   "metadata": {},
   "source": [
    "# 形態素解析結果をarray形式で出力、形態素解析結果をデータフレーム型としてリストに格納、そのリストを縦に連結したデータフレームとして出力"
   ]
  },
  {
   "cell_type": "code",
   "execution_count": 3,
   "metadata": {},
   "outputs": [],
   "source": [
    "'''形態素解析結果をarray形式で出力する関数'''\n",
    "def get_wakati_text_array(text):\n",
    "    #np.nanがstr型ではなくfloat型とされるためstr型以外はneologdn.normalizeメソッドを実施しないように条件分岐\n",
    "        if not isinstance(text, str):\n",
    "            pass\n",
    "        else:            \n",
    "            text_normalization = neologdn.normalize(text)\n",
    "            # 大文字英字を小文字英字に変更\n",
    "            text_normalization = text_normalization.lower()    \n",
    "            neologd_tagger = MeCab.Tagger('-Ochasen -d /usr/local/lib/mecab/dic/mecab-ipadic-neologd')\n",
    "            wakati_text = neologd_tagger.parse(text_normalization).replace('\\n', '\\t').split(\"\\t\")[:-2]\n",
    "            wakati_results_array = np.array([wakati_text]).reshape(-1, 6)\n",
    "            \n",
    "            return wakati_results_array\n",
    "\n",
    "\n",
    "\n",
    "'''array形式で出力された形態素解析結果をデータフレーム型としてリストに格納、そのリストを縦に連結したデータフレームとして出力する関数'''\n",
    "def create_wakati_df(wakati_array):\n",
    "    \n",
    "    wakati_list = [pd.DataFrame(i) for i in wakati_array]\n",
    "    wakati_df = pd.concat(wakati_list, axis=0)\\\n",
    "    .rename(columns={0:'surface', 1:'yomi', 2:'original', 3:'type', 4:'katsuyoukei', 5:'katsuyougata'})\n",
    "    \n",
    "    return wakati_df"
   ]
  },
  {
   "cell_type": "markdown",
   "metadata": {},
   "source": [
    "### 上記関数を実行"
   ]
  },
  {
   "cell_type": "code",
   "execution_count": 4,
   "metadata": {},
   "outputs": [
    {
     "data": {
      "application/vnd.jupyter.widget-view+json": {
       "model_id": "0d6b75ec3b51458391d67aa9553b67c0",
       "version_major": 2,
       "version_minor": 0
      },
      "text/plain": [
       "HBox(children=(IntProgress(value=0, description='progress: ', max=50), HTML(value='')))"
      ]
     },
     "metadata": {},
     "output_type": "display_data"
    },
    {
     "name": "stdout",
     "output_type": "stream",
     "text": [
      "\n"
     ]
    },
    {
     "data": {
      "text/html": [
       "<div>\n",
       "<style scoped>\n",
       "    .dataframe tbody tr th:only-of-type {\n",
       "        vertical-align: middle;\n",
       "    }\n",
       "\n",
       "    .dataframe tbody tr th {\n",
       "        vertical-align: top;\n",
       "    }\n",
       "\n",
       "    .dataframe thead th {\n",
       "        text-align: right;\n",
       "    }\n",
       "</style>\n",
       "<table border=\"1\" class=\"dataframe\">\n",
       "  <thead>\n",
       "    <tr style=\"text-align: right;\">\n",
       "      <th></th>\n",
       "      <th>surface</th>\n",
       "      <th>yomi</th>\n",
       "      <th>original</th>\n",
       "      <th>type</th>\n",
       "      <th>katsuyoukei</th>\n",
       "      <th>katsuyougata</th>\n",
       "    </tr>\n",
       "  </thead>\n",
       "  <tbody>\n",
       "    <tr>\n",
       "      <th>0</th>\n",
       "      <td>案件</td>\n",
       "      <td>アンケン</td>\n",
       "      <td>案件</td>\n",
       "      <td>名詞-一般</td>\n",
       "      <td></td>\n",
       "      <td></td>\n",
       "    </tr>\n",
       "    <tr>\n",
       "      <th>1</th>\n",
       "      <td>個別</td>\n",
       "      <td>コベツ</td>\n",
       "      <td>個別</td>\n",
       "      <td>名詞-形容動詞語幹</td>\n",
       "      <td></td>\n",
       "      <td></td>\n",
       "    </tr>\n",
       "    <tr>\n",
       "      <th>2</th>\n",
       "      <td>の</td>\n",
       "      <td>ノ</td>\n",
       "      <td>の</td>\n",
       "      <td>助詞-連体化</td>\n",
       "      <td></td>\n",
       "      <td></td>\n",
       "    </tr>\n",
       "    <tr>\n",
       "      <th>3</th>\n",
       "      <td>技術</td>\n",
       "      <td>ギジュツ</td>\n",
       "      <td>技術</td>\n",
       "      <td>名詞-一般</td>\n",
       "      <td></td>\n",
       "      <td></td>\n",
       "    </tr>\n",
       "    <tr>\n",
       "      <th>4</th>\n",
       "      <td>相談</td>\n",
       "      <td>ソウダン</td>\n",
       "      <td>相談</td>\n",
       "      <td>名詞-サ変接続</td>\n",
       "      <td></td>\n",
       "      <td></td>\n",
       "    </tr>\n",
       "  </tbody>\n",
       "</table>\n",
       "</div>"
      ],
      "text/plain": [
       "  surface  yomi original       type katsuyoukei katsuyougata\n",
       "0      案件  アンケン       案件      名詞-一般                         \n",
       "1      個別   コベツ       個別  名詞-形容動詞語幹                         \n",
       "2       の     ノ        の     助詞-連体化                         \n",
       "3      技術  ギジュツ       技術      名詞-一般                         \n",
       "4      相談  ソウダン       相談    名詞-サ変接続                         "
      ]
     },
     "execution_count": 4,
     "metadata": {},
     "output_type": "execute_result"
    }
   ],
   "source": [
    "# 今回apply関数をSeries型（text_df['text']）に対して使用するためaxis=1を引数に与えない\n",
    "wakati_array = df['text'].progress_apply(get_wakati_text_array)\n",
    "\n",
    "wakati_df = create_wakati_df(wakati_array)\n",
    "\n",
    "wakati_df.head()"
   ]
  },
  {
   "cell_type": "code",
   "execution_count": null,
   "metadata": {},
   "outputs": [],
   "source": []
  }
 ],
 "metadata": {
  "kernelspec": {
   "display_name": "Python 3",
   "language": "python",
   "name": "python3"
  },
  "language_info": {
   "codemirror_mode": {
    "name": "ipython",
    "version": 3
   },
   "file_extension": ".py",
   "mimetype": "text/x-python",
   "name": "python",
   "nbconvert_exporter": "python",
   "pygments_lexer": "ipython3",
   "version": "3.6.5"
  }
 },
 "nbformat": 4,
 "nbformat_minor": 2
}
