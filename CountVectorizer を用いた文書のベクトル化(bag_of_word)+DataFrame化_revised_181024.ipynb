{
 "cells": [
  {
   "cell_type": "code",
   "execution_count": 1,
   "metadata": {},
   "outputs": [
    {
     "name": "stderr",
     "output_type": "stream",
     "text": [
      "C:\\Users\\Tomori kengo\\Anaconda3\\lib\\site-packages\\gensim\\utils.py:1197: UserWarning: detected Windows; aliasing chunkize to chunkize_serial\n",
      "  warnings.warn(\"detected Windows; aliasing chunkize to chunkize_serial\")\n"
     ]
    }
   ],
   "source": [
    "import pandas as pd\n",
    "import numpy as np\n",
    "\n",
    "import neologdn\n",
    "import MeCab\n",
    "\n",
    "import re\n",
    "\n",
    "from gensim.models.doc2vec import Doc2Vec\n",
    "from gensim.models.doc2vec import TaggedDocument\n",
    "\n",
    "# bag of wordsを作成するためのライブラリ\n",
    "from gensim import corpora, matutils\n",
    "# TF-IDFを作成するためのライブラリ\n",
    "from gensim import models"
   ]
  },
  {
   "cell_type": "markdown",
   "metadata": {},
   "source": [
    "### サンプルデータの読み込み"
   ]
  },
  {
   "cell_type": "code",
   "execution_count": 2,
   "metadata": {
    "collapsed": true
   },
   "outputs": [],
   "source": [
    "#encoding='utf-8'で上手くいった\n",
    "diary_df = pd.read_csv('SBI_Financial statement_201903.csv', encoding='utf-8')"
   ]
  },
  {
   "cell_type": "code",
   "execution_count": 3,
   "metadata": {
    "scrolled": true
   },
   "outputs": [
    {
     "data": {
      "text/html": [
       "<div>\n",
       "<style scoped>\n",
       "    .dataframe tbody tr th:only-of-type {\n",
       "        vertical-align: middle;\n",
       "    }\n",
       "\n",
       "    .dataframe tbody tr th {\n",
       "        vertical-align: top;\n",
       "    }\n",
       "\n",
       "    .dataframe thead th {\n",
       "        text-align: right;\n",
       "    }\n",
       "</style>\n",
       "<table border=\"1\" class=\"dataframe\">\n",
       "  <thead>\n",
       "    <tr style=\"text-align: right;\">\n",
       "      <th></th>\n",
       "      <th>text</th>\n",
       "    </tr>\n",
       "  </thead>\n",
       "  <tbody>\n",
       "    <tr>\n",
       "      <th>0</th>\n",
       "      <td>国内経済が緩やかに回復するなか、マーケット環境は、米国と中国の貿易摩擦問題に対する警戒感等か...</td>\n",
       "    </tr>\n",
       "    <tr>\n",
       "      <th>1</th>\n",
       "      <td>このような環境の中、当社業績においては、ホールセールビジネスの拡大、トレーディング収益や金融...</td>\n",
       "    </tr>\n",
       "    <tr>\n",
       "      <th>2</th>\n",
       "      <td>当社は引続き他社を大きく上回る高いシェアを維持し、35.9％のシェアを獲得。</td>\n",
       "    </tr>\n",
       "    <tr>\n",
       "      <th>3</th>\n",
       "      <td>先物・オプションの委託個人売買代金シェアは、引き続き高水準を維持。</td>\n",
       "    </tr>\n",
       "    <tr>\n",
       "      <th>4</th>\n",
       "      <td>投資信託残高の四半期末残高は過去最高を更新し、信託報酬は高水準を維持。</td>\n",
       "    </tr>\n",
       "    <tr>\n",
       "      <th>5</th>\n",
       "      <td>2018年4月から2018年6月までの上場会社数は20社。</td>\n",
       "    </tr>\n",
       "    <tr>\n",
       "      <th>6</th>\n",
       "      <td>同期間のSBI証券引受関与率は100％と 引き続き業界トップ。</td>\n",
       "    </tr>\n",
       "  </tbody>\n",
       "</table>\n",
       "</div>"
      ],
      "text/plain": [
       "                                                text\n",
       "0  国内経済が緩やかに回復するなか、マーケット環境は、米国と中国の貿易摩擦問題に対する警戒感等か...\n",
       "1  このような環境の中、当社業績においては、ホールセールビジネスの拡大、トレーディング収益や金融...\n",
       "2             当社は引続き他社を大きく上回る高いシェアを維持し、35.9％のシェアを獲得。\n",
       "3                  先物・オプションの委託個人売買代金シェアは、引き続き高水準を維持。\n",
       "4                投資信託残高の四半期末残高は過去最高を更新し、信託報酬は高水準を維持。\n",
       "5                      2018年4月から2018年6月までの上場会社数は20社。\n",
       "6                    同期間のSBI証券引受関与率は100％と 引き続き業界トップ。"
      ]
     },
     "execution_count": 3,
     "metadata": {},
     "output_type": "execute_result"
    }
   ],
   "source": [
    "diary_df"
   ]
  },
  {
   "cell_type": "markdown",
   "metadata": {},
   "source": [
    "### MeCabにかける前準備としてneologdn.normalize()を使用して文章全体を正規化"
   ]
  },
  {
   "cell_type": "code",
   "execution_count": 4,
   "metadata": {
    "collapsed": true
   },
   "outputs": [],
   "source": [
    "def get_diary_normalization(text):\n",
    "    diary_normalization = neologdn.normalize(text)\n",
    "    return diary_normalization"
   ]
  },
  {
   "cell_type": "markdown",
   "metadata": {},
   "source": [
    "### MeCab + neologdで形態素解析し、名詞、形容詞原形と動詞原形を抽出しリストに格納\n",
    "##### 参考：https://github.com/kujirahand/book-mlearn-gyomu/blob/master/src/ch4/Doc2Vec/create_model.py"
   ]
  },
  {
   "cell_type": "code",
   "execution_count": 5,
   "metadata": {
    "collapsed": true
   },
   "outputs": [],
   "source": [
    "neologd_tagger = MeCab.Tagger('-Ochasen -d C:\\mecab-ipadic-neologd')\n",
    "\n",
    "# 引数のテキストを分かち書きして配列にする\n",
    "# node.surface: 文字のみ取得できる 出力例：同  期間  の  SBI  証券\n",
    "# node.feature: 品詞、原形などの詳細を取得できる:「品詞,品詞細分類1,品詞細分類2,品詞細分類3,活用形,活用型,原形,読み,発音」の順\n",
    "# よって、「品詞」を取得したい場合はnode.featureをsplit()でリスト型にした後に抽出したい詳細のインデックス番号[0]を指定すればよい\n",
    "# また、動詞や形容詞の「原形（の単語）」を取得したい場合はインデックス番号[6]を指定すればよい\n",
    "\n",
    "def split_words(diary_normalization):\n",
    "    node = neologd_tagger.parseToNode(diary_normalization) #parseだとエラー「 'str' object has no attribute 'feature'」\n",
    "    wakati_words = []\n",
    "    while node is not None:# nodeに何か格納されていれば処理を継続する\n",
    "        hinshi = node.feature.split(\",\")[0]# splitでリスト型に変換し、そのリストの0番目(=品詞)を抽出\n",
    "        if  hinshi in [\"名詞\"]:\n",
    "            wakati_words.append(node.surface)# hinshiが名詞であれば単語そのものをwakati_wordsに追加\n",
    "        elif hinshi in [\"動詞\", \"形容詞\"]:\n",
    "            wakati_words.append(node.feature.split(\",\")[6])# hinshiが動詞or形容詞であれば単語の原形をwakati_wordsに追加\n",
    "        node = node.next\n",
    "    return wakati_words"
   ]
  },
  {
   "cell_type": "code",
   "execution_count": 6,
   "metadata": {
    "scrolled": true
   },
   "outputs": [
    {
     "data": {
      "text/plain": [
       "\"\\nwakati_list = []\\n\\n# 文章の上から順に作成した関数を実行\\nfor diary in diary_df['text']:\\n    diary_normalization = get_diary_normalization(diary)\\n    wakati_words = split_words(diary_normalization)\\n    wakati_list.append(wakati_words)\\n    \\nwakati_list\\n\""
      ]
     },
     "execution_count": 6,
     "metadata": {},
     "output_type": "execute_result"
    }
   ],
   "source": [
    "'''\n",
    "wakati_list = []\n",
    "\n",
    "# 文章の上から順に作成した関数を実行\n",
    "for diary in diary_df['text']:\n",
    "    diary_normalization = get_diary_normalization(diary)\n",
    "    wakati_words = split_words(diary_normalization)\n",
    "    wakati_list.append(wakati_words)\n",
    "    \n",
    "wakati_list\n",
    "'''"
   ]
  },
  {
   "cell_type": "markdown",
   "metadata": {},
   "source": [
    "### 素性ベクトル（文章の特徴を表現したベクトル）への変換"
   ]
  },
  {
   "cell_type": "code",
   "execution_count": 6,
   "metadata": {
    "collapsed": true
   },
   "outputs": [],
   "source": [
    "# diary_dfのtextカラムのすべての文章に「split_words」関数（形態素解析する関数）を適応させたい\n",
    "\n",
    "# apply関数の引数に関数を引き渡すことが可能、関数を全列に適応できる\n",
    "#  参考URL：https://teratail.com/questions/134846\n",
    "# diary_dfに関数を全列新たなカラム['Wakati']を追加する\n",
    "# 参考URL：https://datumstudio.jp/blog/%e3%80%90%e7%89%b9%e5%88%a5%e9%80%a3%e8%bc%89%e3%80%91-%e3%81%95%e3%81%81%e3%80%81%e8%87%aa%e7%84%b6%e8%a8%80%e8%aa%9e%e5%87%a6%e7%90%86%e3%82%92%e5%a7%8b%e3%82%81%e3%82%88%e3%81%86%ef%bc%81-3\n",
    "diary_df['Wakati'] = diary_df['text'].apply(split_words)"
   ]
  },
  {
   "cell_type": "code",
   "execution_count": 7,
   "metadata": {},
   "outputs": [
    {
     "data": {
      "text/html": [
       "<div>\n",
       "<style scoped>\n",
       "    .dataframe tbody tr th:only-of-type {\n",
       "        vertical-align: middle;\n",
       "    }\n",
       "\n",
       "    .dataframe tbody tr th {\n",
       "        vertical-align: top;\n",
       "    }\n",
       "\n",
       "    .dataframe thead th {\n",
       "        text-align: right;\n",
       "    }\n",
       "</style>\n",
       "<table border=\"1\" class=\"dataframe\">\n",
       "  <thead>\n",
       "    <tr style=\"text-align: right;\">\n",
       "      <th></th>\n",
       "      <th>text</th>\n",
       "      <th>Wakati</th>\n",
       "    </tr>\n",
       "  </thead>\n",
       "  <tbody>\n",
       "    <tr>\n",
       "      <th>0</th>\n",
       "      <td>国内経済が緩やかに回復するなか、マーケット環境は、米国と中国の貿易摩擦問題に対する警戒感等か...</td>\n",
       "      <td>[国内, 経済, 緩やか, 回復, する, なか, マーケット, 環境, 米国, 中国, 貿...</td>\n",
       "    </tr>\n",
       "    <tr>\n",
       "      <th>1</th>\n",
       "      <td>このような環境の中、当社業績においては、ホールセールビジネスの拡大、トレーディング収益や金融...</td>\n",
       "      <td>[よう, 環境, 中, 当社, 業績, ホールセール, ビジネス, 拡大, トレーディング,...</td>\n",
       "    </tr>\n",
       "    <tr>\n",
       "      <th>2</th>\n",
       "      <td>当社は引続き他社を大きく上回る高いシェアを維持し、35.9％のシェアを獲得。</td>\n",
       "      <td>[当社, 他社, 大きい, 上回る, 高い, シェア, 維持, する, 35, 9, ％, ...</td>\n",
       "    </tr>\n",
       "    <tr>\n",
       "      <th>3</th>\n",
       "      <td>先物・オプションの委託個人売買代金シェアは、引き続き高水準を維持。</td>\n",
       "      <td>[先物, オプション, 委託, 個人, 売買代金, シェア, 高水準, 維持]</td>\n",
       "    </tr>\n",
       "    <tr>\n",
       "      <th>4</th>\n",
       "      <td>投資信託残高の四半期末残高は過去最高を更新し、信託報酬は高水準を維持。</td>\n",
       "      <td>[投資信託, 残高, 四半期, 末, 残高, 過去最高, 更新, する, 信託報酬, 高水準...</td>\n",
       "    </tr>\n",
       "    <tr>\n",
       "      <th>5</th>\n",
       "      <td>2018年4月から2018年6月までの上場会社数は20社。</td>\n",
       "      <td>[2018年, 4月, 2018年, 6月, 上場会社, 数, 20, 社]</td>\n",
       "    </tr>\n",
       "    <tr>\n",
       "      <th>6</th>\n",
       "      <td>同期間のSBI証券引受関与率は100％と 引き続き業界トップ。</td>\n",
       "      <td>[期間, SBI証券, 引受, 関与, 率, 100％, 業界, トップ]</td>\n",
       "    </tr>\n",
       "  </tbody>\n",
       "</table>\n",
       "</div>"
      ],
      "text/plain": [
       "                                                text  \\\n",
       "0  国内経済が緩やかに回復するなか、マーケット環境は、米国と中国の貿易摩擦問題に対する警戒感等か...   \n",
       "1  このような環境の中、当社業績においては、ホールセールビジネスの拡大、トレーディング収益や金融...   \n",
       "2             当社は引続き他社を大きく上回る高いシェアを維持し、35.9％のシェアを獲得。   \n",
       "3                  先物・オプションの委託個人売買代金シェアは、引き続き高水準を維持。   \n",
       "4                投資信託残高の四半期末残高は過去最高を更新し、信託報酬は高水準を維持。   \n",
       "5                      2018年4月から2018年6月までの上場会社数は20社。   \n",
       "6                    同期間のSBI証券引受関与率は100％と 引き続き業界トップ。   \n",
       "\n",
       "                                              Wakati  \n",
       "0  [国内, 経済, 緩やか, 回復, する, なか, マーケット, 環境, 米国, 中国, 貿...  \n",
       "1  [よう, 環境, 中, 当社, 業績, ホールセール, ビジネス, 拡大, トレーディング,...  \n",
       "2  [当社, 他社, 大きい, 上回る, 高い, シェア, 維持, する, 35, 9, ％, ...  \n",
       "3            [先物, オプション, 委託, 個人, 売買代金, シェア, 高水準, 維持]  \n",
       "4  [投資信託, 残高, 四半期, 末, 残高, 過去最高, 更新, する, 信託報酬, 高水準...  \n",
       "5             [2018年, 4月, 2018年, 6月, 上場会社, 数, 20, 社]  \n",
       "6              [期間, SBI証券, 引受, 関与, 率, 100％, 業界, トップ]  "
      ]
     },
     "execution_count": 7,
     "metadata": {},
     "output_type": "execute_result"
    }
   ],
   "source": [
    "diary_df"
   ]
  },
  {
   "cell_type": "code",
   "execution_count": 8,
   "metadata": {
    "collapsed": true
   },
   "outputs": [],
   "source": [
    "# Wakatiカラムの1行毎に格納されている単語はリストに格納されているのでリスト型と判断されCountVectorizer.fit_transform()が使用できない\n",
    "# そこでjoin関数でリストの中身を文字列に変換する\n",
    "# ただし、リストに格納されてる要素に数値が混ざってる場合はmap([適用関数], [対象リスト])を使う必要あり\n",
    "# 参考URL：https://www.okadalabo.com/python%E3%83%AA%E3%82%B9%E3%83%88%E3%81%AE%E4%B8%AD%E8%BA%AB%E3%82%92%E6%96%87%E5%AD%97%E5%88%97%E3%81%AB%E5%A4%89%E6%8F%9B%E3%81%99%E3%82%8B%E3%80%82/\n",
    "for i in range(0, len(diary_df)):\n",
    "    diary_df['Wakati'][i] = ','.join((map(str, diary_df['Wakati'][i] )))"
   ]
  },
  {
   "cell_type": "code",
   "execution_count": 9,
   "metadata": {},
   "outputs": [
    {
     "data": {
      "text/html": [
       "<div>\n",
       "<style scoped>\n",
       "    .dataframe tbody tr th:only-of-type {\n",
       "        vertical-align: middle;\n",
       "    }\n",
       "\n",
       "    .dataframe tbody tr th {\n",
       "        vertical-align: top;\n",
       "    }\n",
       "\n",
       "    .dataframe thead th {\n",
       "        text-align: right;\n",
       "    }\n",
       "</style>\n",
       "<table border=\"1\" class=\"dataframe\">\n",
       "  <thead>\n",
       "    <tr style=\"text-align: right;\">\n",
       "      <th></th>\n",
       "      <th>text</th>\n",
       "      <th>Wakati</th>\n",
       "    </tr>\n",
       "  </thead>\n",
       "  <tbody>\n",
       "    <tr>\n",
       "      <th>0</th>\n",
       "      <td>国内経済が緩やかに回復するなか、マーケット環境は、米国と中国の貿易摩擦問題に対する警戒感等か...</td>\n",
       "      <td>国内,経済,緩やか,回復,する,なか,マーケット,環境,米国,中国,貿易摩擦,問題,警戒感,...</td>\n",
       "    </tr>\n",
       "    <tr>\n",
       "      <th>1</th>\n",
       "      <td>このような環境の中、当社業績においては、ホールセールビジネスの拡大、トレーディング収益や金融...</td>\n",
       "      <td>よう,環境,中,当社,業績,ホールセール,ビジネス,拡大,トレーディング,収益,金融,収益,...</td>\n",
       "    </tr>\n",
       "    <tr>\n",
       "      <th>2</th>\n",
       "      <td>当社は引続き他社を大きく上回る高いシェアを維持し、35.9％のシェアを獲得。</td>\n",
       "      <td>当社,他社,大きい,上回る,高い,シェア,維持,する,35,9,％,シェア,獲得</td>\n",
       "    </tr>\n",
       "    <tr>\n",
       "      <th>3</th>\n",
       "      <td>先物・オプションの委託個人売買代金シェアは、引き続き高水準を維持。</td>\n",
       "      <td>先物,オプション,委託,個人,売買代金,シェア,高水準,維持</td>\n",
       "    </tr>\n",
       "    <tr>\n",
       "      <th>4</th>\n",
       "      <td>投資信託残高の四半期末残高は過去最高を更新し、信託報酬は高水準を維持。</td>\n",
       "      <td>投資信託,残高,四半期,末,残高,過去最高,更新,する,信託報酬,高水準,維持</td>\n",
       "    </tr>\n",
       "    <tr>\n",
       "      <th>5</th>\n",
       "      <td>2018年4月から2018年6月までの上場会社数は20社。</td>\n",
       "      <td>2018年,4月,2018年,6月,上場会社,数,20,社</td>\n",
       "    </tr>\n",
       "    <tr>\n",
       "      <th>6</th>\n",
       "      <td>同期間のSBI証券引受関与率は100％と 引き続き業界トップ。</td>\n",
       "      <td>期間,SBI証券,引受,関与,率,100％,業界,トップ</td>\n",
       "    </tr>\n",
       "  </tbody>\n",
       "</table>\n",
       "</div>"
      ],
      "text/plain": [
       "                                                text  \\\n",
       "0  国内経済が緩やかに回復するなか、マーケット環境は、米国と中国の貿易摩擦問題に対する警戒感等か...   \n",
       "1  このような環境の中、当社業績においては、ホールセールビジネスの拡大、トレーディング収益や金融...   \n",
       "2             当社は引続き他社を大きく上回る高いシェアを維持し、35.9％のシェアを獲得。   \n",
       "3                  先物・オプションの委託個人売買代金シェアは、引き続き高水準を維持。   \n",
       "4                投資信託残高の四半期末残高は過去最高を更新し、信託報酬は高水準を維持。   \n",
       "5                      2018年4月から2018年6月までの上場会社数は20社。   \n",
       "6                    同期間のSBI証券引受関与率は100％と 引き続き業界トップ。   \n",
       "\n",
       "                                              Wakati  \n",
       "0  国内,経済,緩やか,回復,する,なか,マーケット,環境,米国,中国,貿易摩擦,問題,警戒感,...  \n",
       "1  よう,環境,中,当社,業績,ホールセール,ビジネス,拡大,トレーディング,収益,金融,収益,...  \n",
       "2           当社,他社,大きい,上回る,高い,シェア,維持,する,35,9,％,シェア,獲得  \n",
       "3                     先物,オプション,委託,個人,売買代金,シェア,高水準,維持  \n",
       "4            投資信託,残高,四半期,末,残高,過去最高,更新,する,信託報酬,高水準,維持  \n",
       "5                      2018年,4月,2018年,6月,上場会社,数,20,社  \n",
       "6                       期間,SBI証券,引受,関与,率,100％,業界,トップ  "
      ]
     },
     "execution_count": 9,
     "metadata": {},
     "output_type": "execute_result"
    }
   ],
   "source": [
    "diary_df"
   ]
  },
  {
   "cell_type": "code",
   "execution_count": 10,
   "metadata": {
    "collapsed": true
   },
   "outputs": [],
   "source": [
    "from sklearn.feature_extraction.text import CountVectorizer\n",
    "CV = CountVectorizer()\n",
    "# CountVectorizerを利用して単語と列番号の対応付けを実行 Document-Term Matrixを獲得できる\n",
    "feature_vectors = CV.fit_transform(diary_df['Wakati'])\n",
    "# どの単語を学習しているのかをCV.get_feature_names()で確認\n",
    "vocabulary = CV.get_feature_names()"
   ]
  },
  {
   "cell_type": "code",
   "execution_count": 11,
   "metadata": {
    "scrolled": true
   },
   "outputs": [
    {
     "name": "stdout",
     "output_type": "stream",
     "text": [
      "  (0, 35)\t1\n",
      "  (0, 53)\t1\n",
      "  (0, 51)\t1\n",
      "  (0, 26)\t1\n",
      "  (0, 52)\t1\n",
      "  (0, 19)\t1\n",
      "  (0, 47)\t1\n",
      "  (0, 46)\t1\n",
      "  (0, 16)\t1\n",
      "  (0, 8)\t1\n",
      "  (0, 7)\t1\n",
      "  (0, 28)\t1\n",
      "  (0, 50)\t1\n",
      "  (0, 48)\t1\n",
      "  (0, 29)\t1\n",
      "  (1, 55)\t1\n",
      "  (1, 31)\t1\n",
      "  (1, 24)\t1\n",
      "  (1, 30)\t1\n",
      "  (1, 56)\t1\n",
      "  (1, 25)\t2\n",
      "  (1, 13)\t1\n",
      "  (1, 39)\t1\n",
      "  (1, 14)\t1\n",
      "  (1, 15)\t1\n",
      "  :\t:\n",
      "  (3, 10)\t1\n",
      "  (3, 23)\t1\n",
      "  (3, 49)\t1\n",
      "  (3, 11)\t1\n",
      "  (4, 21)\t1\n",
      "  (4, 40)\t1\n",
      "  (4, 54)\t1\n",
      "  (4, 27)\t1\n",
      "  (4, 44)\t2\n",
      "  (4, 38)\t1\n",
      "  (4, 59)\t1\n",
      "  (4, 49)\t1\n",
      "  (4, 7)\t1\n",
      "  (5, 1)\t1\n",
      "  (5, 18)\t1\n",
      "  (5, 5)\t1\n",
      "  (5, 4)\t1\n",
      "  (5, 2)\t2\n",
      "  (6, 12)\t1\n",
      "  (6, 42)\t1\n",
      "  (6, 0)\t1\n",
      "  (6, 57)\t1\n",
      "  (6, 36)\t1\n",
      "  (6, 6)\t1\n",
      "  (6, 41)\t1\n"
     ]
    }
   ],
   "source": [
    "print(feature_vectors)"
   ]
  },
  {
   "cell_type": "code",
   "execution_count": 12,
   "metadata": {
    "scrolled": true
   },
   "outputs": [
    {
     "name": "stdout",
     "output_type": "stream",
     "text": [
      "今回の文章で学習した単語の数は60語です。\n",
      "--------------------------------------------------------------------------------------------\n",
      "['100', '20', '2018年', '35', '4月', '6月', 'sbi証券', 'する', 'なか', 'よう', 'オプション', 'シェア', 'トップ', 'トレーディング', 'ビジネス', 'ホールセール', 'マーケット', '上回る', '上場会社', '中国', '他社', '信託報酬', '個人', '先物', '前年同期', '収益', '問題', '四半期', '回復', '国内', '増加', '増収増益', '売買代金', '大きい', '委託', '展開', '引受', '当社', '投資信託', '拡大', '更新', '期間', '業界', '業績', '残高', '獲得', '環境', '米国', '経済', '維持', '緩やか', '警戒感', '貿易摩擦', '退る', '過去最高', '達成', '金融', '関与', '高い', '高水準']\n",
      "--------------------------------------------------------------------------------------------\n",
      "{'国内': 29, '経済': 48, '緩やか': 50, '回復': 28, 'する': 7, 'なか': 8, 'マーケット': 16, '環境': 46, '米国': 47, '中国': 19, '貿易摩擦': 52, '問題': 26, '警戒感': 51, '退る': 53, '展開': 35, 'よう': 9, '当社': 37, '業績': 43, 'ホールセール': 15, 'ビジネス': 14, '拡大': 39, 'トレーディング': 13, '収益': 25, '金融': 56, '増加': 30, '前年同期': 24, '増収増益': 31, '達成': 55, '他社': 20, '大きい': 33, '上回る': 17, '高い': 58, 'シェア': 11, '維持': 49, '35': 3, '獲得': 45, '先物': 23, 'オプション': 10, '委託': 34, '個人': 22, '売買代金': 32, '高水準': 59, '投資信託': 38, '残高': 44, '四半期': 27, '過去最高': 54, '更新': 40, '信託報酬': 21, '2018年': 2, '4月': 4, '6月': 5, '上場会社': 18, '20': 1, '期間': 41, 'sbi証券': 6, '引受': 36, '関与': 57, '100': 0, '業界': 42, 'トップ': 12}\n",
      "--------------------------------------------------------------------------------------------\n",
      "dict_keys(['国内', '経済', '緩やか', '回復', 'する', 'なか', 'マーケット', '環境', '米国', '中国', '貿易摩擦', '問題', '警戒感', '退る', '展開', 'よう', '当社', '業績', 'ホールセール', 'ビジネス', '拡大', 'トレーディング', '収益', '金融', '増加', '前年同期', '増収増益', '達成', '他社', '大きい', '上回る', '高い', 'シェア', '維持', '35', '獲得', '先物', 'オプション', '委託', '個人', '売買代金', '高水準', '投資信託', '残高', '四半期', '過去最高', '更新', '信託報酬', '2018年', '4月', '6月', '上場会社', '20', '期間', 'sbi証券', '引受', '関与', '100', '業界', 'トップ'])\n",
      "--------------------------------------------------------------------------------------------\n",
      "dict_values([29, 48, 50, 28, 7, 8, 16, 46, 47, 19, 52, 26, 51, 53, 35, 9, 37, 43, 15, 14, 39, 13, 25, 56, 30, 24, 31, 55, 20, 33, 17, 58, 11, 49, 3, 45, 23, 10, 34, 22, 32, 59, 38, 44, 27, 54, 40, 21, 2, 4, 5, 18, 1, 41, 6, 36, 57, 0, 42, 12])\n"
     ]
    }
   ],
   "source": [
    "print('今回の文章で学習した単語の数は{}語です。'.format(len(CV.get_feature_names())))\n",
    "# print('今回の文章で学習した単語の数は{}語です。'.format(len(CV.vocabulary_.keys()))) 上記はこの表現でも同じ\n",
    "print('--------------------------------------------------------------------------------------------')\n",
    "print(vocabulary)\n",
    "print('--------------------------------------------------------------------------------------------')\n",
    "print(CV.vocabulary_)\n",
    "print('--------------------------------------------------------------------------------------------')\n",
    "print(CV.vocabulary_.keys())\n",
    "print('--------------------------------------------------------------------------------------------')\n",
    "print(CV.vocabulary_.values())"
   ]
  },
  {
   "cell_type": "code",
   "execution_count": 13,
   "metadata": {
    "scrolled": false
   },
   "outputs": [
    {
     "name": "stdout",
     "output_type": "stream",
     "text": [
      "[[0 0 0 0 0 0 0 1 1 0 0 0 0 0 0 0 1 0 0 1 0 0 0 0 0 0 1 0 1 1 0 0 0 0 0 1\n",
      "  0 0 0 0 0 0 0 0 0 0 1 1 1 0 1 1 1 1 0 0 0 0 0 0]\n",
      " [0 0 0 0 0 0 0 0 0 1 0 0 0 1 1 1 0 0 0 0 0 0 0 0 1 2 0 0 0 0 1 1 0 0 0 0\n",
      "  0 1 0 1 0 0 0 1 0 0 1 0 0 0 0 0 0 0 0 1 1 0 0 0]\n",
      " [0 0 0 1 0 0 0 1 0 0 0 2 0 0 0 0 0 1 0 0 1 0 0 0 0 0 0 0 0 0 0 0 0 1 0 0\n",
      "  0 1 0 0 0 0 0 0 0 1 0 0 0 1 0 0 0 0 0 0 0 0 1 0]\n",
      " [0 0 0 0 0 0 0 0 0 0 1 1 0 0 0 0 0 0 0 0 0 0 1 1 0 0 0 0 0 0 0 0 1 0 1 0\n",
      "  0 0 0 0 0 0 0 0 0 0 0 0 0 1 0 0 0 0 0 0 0 0 0 1]\n",
      " [0 0 0 0 0 0 0 1 0 0 0 0 0 0 0 0 0 0 0 0 0 1 0 0 0 0 0 1 0 0 0 0 0 0 0 0\n",
      "  0 0 1 0 1 0 0 0 2 0 0 0 0 1 0 0 0 0 1 0 0 0 0 1]\n",
      " [0 1 2 0 1 1 0 0 0 0 0 0 0 0 0 0 0 0 1 0 0 0 0 0 0 0 0 0 0 0 0 0 0 0 0 0\n",
      "  0 0 0 0 0 0 0 0 0 0 0 0 0 0 0 0 0 0 0 0 0 0 0 0]\n",
      " [1 0 0 0 0 0 1 0 0 0 0 0 1 0 0 0 0 0 0 0 0 0 0 0 0 0 0 0 0 0 0 0 0 0 0 0\n",
      "  1 0 0 0 0 1 1 0 0 0 0 0 0 0 0 0 0 0 0 0 0 1 0 0]]\n"
     ]
    }
   ],
   "source": [
    "print(feature_vectors.toarray())"
   ]
  },
  {
   "cell_type": "code",
   "execution_count": 14,
   "metadata": {
    "collapsed": true
   },
   "outputs": [],
   "source": [
    "# 疎行列をデータに、インデックスを元のテキストに、カラムを「文章から抽出した単語」したデータフレームを作成\n",
    "# 書籍「Pythonによるあたらしいデータ分析の教科書 P.290」が参考になるかも\n",
    "# columns=CV.vocabulary_.keys()にすると単語の並びとfeature_vectors.toarray()の0,1の並びとが対応できていないのでcolumnsにはCV.get_feature_names()を指定する\n",
    "bow_df = pd.DataFrame(feature_vectors.toarray(), index=diary_df['text'],  columns=vocabulary)"
   ]
  },
  {
   "cell_type": "code",
   "execution_count": 15,
   "metadata": {},
   "outputs": [
    {
     "data": {
      "text/html": [
       "<div>\n",
       "<style scoped>\n",
       "    .dataframe tbody tr th:only-of-type {\n",
       "        vertical-align: middle;\n",
       "    }\n",
       "\n",
       "    .dataframe tbody tr th {\n",
       "        vertical-align: top;\n",
       "    }\n",
       "\n",
       "    .dataframe thead th {\n",
       "        text-align: right;\n",
       "    }\n",
       "</style>\n",
       "<table border=\"1\" class=\"dataframe\">\n",
       "  <thead>\n",
       "    <tr style=\"text-align: right;\">\n",
       "      <th></th>\n",
       "      <th>100</th>\n",
       "      <th>20</th>\n",
       "      <th>2018年</th>\n",
       "      <th>35</th>\n",
       "      <th>4月</th>\n",
       "      <th>6月</th>\n",
       "      <th>sbi証券</th>\n",
       "      <th>する</th>\n",
       "      <th>なか</th>\n",
       "      <th>よう</th>\n",
       "      <th>...</th>\n",
       "      <th>緩やか</th>\n",
       "      <th>警戒感</th>\n",
       "      <th>貿易摩擦</th>\n",
       "      <th>退る</th>\n",
       "      <th>過去最高</th>\n",
       "      <th>達成</th>\n",
       "      <th>金融</th>\n",
       "      <th>関与</th>\n",
       "      <th>高い</th>\n",
       "      <th>高水準</th>\n",
       "    </tr>\n",
       "    <tr>\n",
       "      <th>text</th>\n",
       "      <th></th>\n",
       "      <th></th>\n",
       "      <th></th>\n",
       "      <th></th>\n",
       "      <th></th>\n",
       "      <th></th>\n",
       "      <th></th>\n",
       "      <th></th>\n",
       "      <th></th>\n",
       "      <th></th>\n",
       "      <th></th>\n",
       "      <th></th>\n",
       "      <th></th>\n",
       "      <th></th>\n",
       "      <th></th>\n",
       "      <th></th>\n",
       "      <th></th>\n",
       "      <th></th>\n",
       "      <th></th>\n",
       "      <th></th>\n",
       "      <th></th>\n",
       "    </tr>\n",
       "  </thead>\n",
       "  <tbody>\n",
       "    <tr>\n",
       "      <th>国内経済が緩やかに回復するなか、マーケット環境は、米国と中国の貿易摩擦問題に対する警戒感等から一進一 退の展開。</th>\n",
       "      <td>0</td>\n",
       "      <td>0</td>\n",
       "      <td>0</td>\n",
       "      <td>0</td>\n",
       "      <td>0</td>\n",
       "      <td>0</td>\n",
       "      <td>0</td>\n",
       "      <td>1</td>\n",
       "      <td>1</td>\n",
       "      <td>0</td>\n",
       "      <td>...</td>\n",
       "      <td>1</td>\n",
       "      <td>1</td>\n",
       "      <td>1</td>\n",
       "      <td>1</td>\n",
       "      <td>0</td>\n",
       "      <td>0</td>\n",
       "      <td>0</td>\n",
       "      <td>0</td>\n",
       "      <td>0</td>\n",
       "      <td>0</td>\n",
       "    </tr>\n",
       "    <tr>\n",
       "      <th>このような環境の中、当社業績においては、ホールセールビジネスの拡大、トレーディング収益や金融 収益の増加により前年同期比で増収増益を達成。</th>\n",
       "      <td>0</td>\n",
       "      <td>0</td>\n",
       "      <td>0</td>\n",
       "      <td>0</td>\n",
       "      <td>0</td>\n",
       "      <td>0</td>\n",
       "      <td>0</td>\n",
       "      <td>0</td>\n",
       "      <td>0</td>\n",
       "      <td>1</td>\n",
       "      <td>...</td>\n",
       "      <td>0</td>\n",
       "      <td>0</td>\n",
       "      <td>0</td>\n",
       "      <td>0</td>\n",
       "      <td>0</td>\n",
       "      <td>1</td>\n",
       "      <td>1</td>\n",
       "      <td>0</td>\n",
       "      <td>0</td>\n",
       "      <td>0</td>\n",
       "    </tr>\n",
       "    <tr>\n",
       "      <th>当社は引続き他社を大きく上回る高いシェアを維持し、35.9％のシェアを獲得。</th>\n",
       "      <td>0</td>\n",
       "      <td>0</td>\n",
       "      <td>0</td>\n",
       "      <td>1</td>\n",
       "      <td>0</td>\n",
       "      <td>0</td>\n",
       "      <td>0</td>\n",
       "      <td>1</td>\n",
       "      <td>0</td>\n",
       "      <td>0</td>\n",
       "      <td>...</td>\n",
       "      <td>0</td>\n",
       "      <td>0</td>\n",
       "      <td>0</td>\n",
       "      <td>0</td>\n",
       "      <td>0</td>\n",
       "      <td>0</td>\n",
       "      <td>0</td>\n",
       "      <td>0</td>\n",
       "      <td>1</td>\n",
       "      <td>0</td>\n",
       "    </tr>\n",
       "    <tr>\n",
       "      <th>先物・オプションの委託個人売買代金シェアは、引き続き高水準を維持。</th>\n",
       "      <td>0</td>\n",
       "      <td>0</td>\n",
       "      <td>0</td>\n",
       "      <td>0</td>\n",
       "      <td>0</td>\n",
       "      <td>0</td>\n",
       "      <td>0</td>\n",
       "      <td>0</td>\n",
       "      <td>0</td>\n",
       "      <td>0</td>\n",
       "      <td>...</td>\n",
       "      <td>0</td>\n",
       "      <td>0</td>\n",
       "      <td>0</td>\n",
       "      <td>0</td>\n",
       "      <td>0</td>\n",
       "      <td>0</td>\n",
       "      <td>0</td>\n",
       "      <td>0</td>\n",
       "      <td>0</td>\n",
       "      <td>1</td>\n",
       "    </tr>\n",
       "    <tr>\n",
       "      <th>投資信託残高の四半期末残高は過去最高を更新し、信託報酬は高水準を維持。</th>\n",
       "      <td>0</td>\n",
       "      <td>0</td>\n",
       "      <td>0</td>\n",
       "      <td>0</td>\n",
       "      <td>0</td>\n",
       "      <td>0</td>\n",
       "      <td>0</td>\n",
       "      <td>1</td>\n",
       "      <td>0</td>\n",
       "      <td>0</td>\n",
       "      <td>...</td>\n",
       "      <td>0</td>\n",
       "      <td>0</td>\n",
       "      <td>0</td>\n",
       "      <td>0</td>\n",
       "      <td>1</td>\n",
       "      <td>0</td>\n",
       "      <td>0</td>\n",
       "      <td>0</td>\n",
       "      <td>0</td>\n",
       "      <td>1</td>\n",
       "    </tr>\n",
       "    <tr>\n",
       "      <th>2018年4月から2018年6月までの上場会社数は20社。</th>\n",
       "      <td>0</td>\n",
       "      <td>1</td>\n",
       "      <td>2</td>\n",
       "      <td>0</td>\n",
       "      <td>1</td>\n",
       "      <td>1</td>\n",
       "      <td>0</td>\n",
       "      <td>0</td>\n",
       "      <td>0</td>\n",
       "      <td>0</td>\n",
       "      <td>...</td>\n",
       "      <td>0</td>\n",
       "      <td>0</td>\n",
       "      <td>0</td>\n",
       "      <td>0</td>\n",
       "      <td>0</td>\n",
       "      <td>0</td>\n",
       "      <td>0</td>\n",
       "      <td>0</td>\n",
       "      <td>0</td>\n",
       "      <td>0</td>\n",
       "    </tr>\n",
       "    <tr>\n",
       "      <th>同期間のSBI証券引受関与率は100％と 引き続き業界トップ。</th>\n",
       "      <td>1</td>\n",
       "      <td>0</td>\n",
       "      <td>0</td>\n",
       "      <td>0</td>\n",
       "      <td>0</td>\n",
       "      <td>0</td>\n",
       "      <td>1</td>\n",
       "      <td>0</td>\n",
       "      <td>0</td>\n",
       "      <td>0</td>\n",
       "      <td>...</td>\n",
       "      <td>0</td>\n",
       "      <td>0</td>\n",
       "      <td>0</td>\n",
       "      <td>0</td>\n",
       "      <td>0</td>\n",
       "      <td>0</td>\n",
       "      <td>0</td>\n",
       "      <td>1</td>\n",
       "      <td>0</td>\n",
       "      <td>0</td>\n",
       "    </tr>\n",
       "  </tbody>\n",
       "</table>\n",
       "<p>7 rows × 60 columns</p>\n",
       "</div>"
      ],
      "text/plain": [
       "                                                    100  20  2018年  35  4月  \\\n",
       "text                                                                         \n",
       "国内経済が緩やかに回復するなか、マーケット環境は、米国と中国の貿易摩擦問題に対する警戒感等から...    0   0      0   0   0   \n",
       "このような環境の中、当社業績においては、ホールセールビジネスの拡大、トレーディング収益や金融 ...    0   0      0   0   0   \n",
       "当社は引続き他社を大きく上回る高いシェアを維持し、35.9％のシェアを獲得。                0   0      0   1   0   \n",
       "先物・オプションの委託個人売買代金シェアは、引き続き高水準を維持。                     0   0      0   0   0   \n",
       "投資信託残高の四半期末残高は過去最高を更新し、信託報酬は高水準を維持。                   0   0      0   0   0   \n",
       "2018年4月から2018年6月までの上場会社数は20社。                         0   1      2   0   1   \n",
       "同期間のSBI証券引受関与率は100％と 引き続き業界トップ。                       1   0      0   0   0   \n",
       "\n",
       "                                                    6月  sbi証券  する  なか  よう  \\\n",
       "text                                                                        \n",
       "国内経済が緩やかに回復するなか、マーケット環境は、米国と中国の貿易摩擦問題に対する警戒感等から...   0      0   1   1   0   \n",
       "このような環境の中、当社業績においては、ホールセールビジネスの拡大、トレーディング収益や金融 ...   0      0   0   0   1   \n",
       "当社は引続き他社を大きく上回る高いシェアを維持し、35.9％のシェアを獲得。               0      0   1   0   0   \n",
       "先物・オプションの委託個人売買代金シェアは、引き続き高水準を維持。                    0      0   0   0   0   \n",
       "投資信託残高の四半期末残高は過去最高を更新し、信託報酬は高水準を維持。                  0      0   1   0   0   \n",
       "2018年4月から2018年6月までの上場会社数は20社。                        1      0   0   0   0   \n",
       "同期間のSBI証券引受関与率は100％と 引き続き業界トップ。                      0      1   0   0   0   \n",
       "\n",
       "                                                   ...   緩やか  警戒感  貿易摩擦  退る  \\\n",
       "text                                               ...                        \n",
       "国内経済が緩やかに回復するなか、マーケット環境は、米国と中国の貿易摩擦問題に対する警戒感等から... ...     1    1     1   1   \n",
       "このような環境の中、当社業績においては、ホールセールビジネスの拡大、トレーディング収益や金融 ... ...     0    0     0   0   \n",
       "当社は引続き他社を大きく上回る高いシェアを維持し、35.9％のシェアを獲得。             ...     0    0     0   0   \n",
       "先物・オプションの委託個人売買代金シェアは、引き続き高水準を維持。                  ...     0    0     0   0   \n",
       "投資信託残高の四半期末残高は過去最高を更新し、信託報酬は高水準を維持。                ...     0    0     0   0   \n",
       "2018年4月から2018年6月までの上場会社数は20社。                      ...     0    0     0   0   \n",
       "同期間のSBI証券引受関与率は100％と 引き続き業界トップ。                    ...     0    0     0   0   \n",
       "\n",
       "                                                    過去最高  達成  金融  関与  高い  高水準  \n",
       "text                                                                           \n",
       "国内経済が緩やかに回復するなか、マーケット環境は、米国と中国の貿易摩擦問題に対する警戒感等から...     0   0   0   0   0    0  \n",
       "このような環境の中、当社業績においては、ホールセールビジネスの拡大、トレーディング収益や金融 ...     0   1   1   0   0    0  \n",
       "当社は引続き他社を大きく上回る高いシェアを維持し、35.9％のシェアを獲得。                 0   0   0   0   1    0  \n",
       "先物・オプションの委託個人売買代金シェアは、引き続き高水準を維持。                      0   0   0   0   0    1  \n",
       "投資信託残高の四半期末残高は過去最高を更新し、信託報酬は高水準を維持。                    1   0   0   0   0    1  \n",
       "2018年4月から2018年6月までの上場会社数は20社。                          0   0   0   0   0    0  \n",
       "同期間のSBI証券引受関与率は100％と 引き続き業界トップ。                        0   0   0   1   0    0  \n",
       "\n",
       "[7 rows x 60 columns]"
      ]
     },
     "execution_count": 15,
     "metadata": {},
     "output_type": "execute_result"
    }
   ],
   "source": [
    "bow_df"
   ]
  },
  {
   "cell_type": "code",
   "execution_count": 16,
   "metadata": {
    "collapsed": true
   },
   "outputs": [],
   "source": [
    "# to_csv関数でindexにカラム名を名付けるには「index_label='カラム名'」 を引数に追加する\n",
    "bow_df.to_csv('bow_df.csv', index_label='text', encoding='shift-jis')"
   ]
  },
  {
   "cell_type": "code",
   "execution_count": null,
   "metadata": {
    "collapsed": true
   },
   "outputs": [],
   "source": []
  }
 ],
 "metadata": {
  "kernelspec": {
   "display_name": "Python 3",
   "language": "python",
   "name": "python3"
  },
  "language_info": {
   "codemirror_mode": {
    "name": "ipython",
    "version": 3
   },
   "file_extension": ".py",
   "mimetype": "text/x-python",
   "name": "python",
   "nbconvert_exporter": "python",
   "pygments_lexer": "ipython3",
   "version": "3.6.3"
  }
 },
 "nbformat": 4,
 "nbformat_minor": 2
}
