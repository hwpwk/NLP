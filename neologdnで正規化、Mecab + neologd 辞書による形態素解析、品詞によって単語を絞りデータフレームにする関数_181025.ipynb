{
 "cells": [
  {
   "cell_type": "code",
   "execution_count": 1,
   "metadata": {
    "collapsed": true
   },
   "outputs": [],
   "source": [
    "import pandas as pd\n",
    "import numpy as np\n",
    "\n",
    "import neologdn\n",
    "import MeCab\n",
    "\n",
    "import re\n",
    "\n",
    "# 可視化用のライブラリ\n",
    "from matplotlib import pyplot as plt\n",
    "import seaborn as sns\n",
    "%matplotlib inline"
   ]
  },
  {
   "cell_type": "markdown",
   "metadata": {},
   "source": [
    "### テキストデータの読み込み\n",
    "読み込むデータは：https://www.aozora.gr.jp/cards/001779/card56680.html　のテキストファイル(ルビあり)"
   ]
  },
  {
   "cell_type": "code",
   "execution_count": 2,
   "metadata": {
    "collapsed": true
   },
   "outputs": [],
   "source": [
    "# with open('sakasuno_kaijin.txt', 'r') as f:とすると「'cp932' codec can't decode byte 0xef in position 0: illegal multibyte sequence」のエラーが発生\n",
    "# with open('sakasuno_kaijin.txt', 'rb') as f:\n",
    "    # text = f.read()\n",
    "# これだと永遠と「b'\\xef\\xbb\\xbf\\xe3\\x82.....」が読み込まれるのでdecodeする必要あり\n",
    "with open('sakasuno_kaijin.txt', 'rb') as f:\n",
    "    binary_data = f.read()\n",
    "# メモ帳の文字コードを「UTF-8」で保存していた場合はdecode('utf-8')\n",
    "# text = binary_data.decode('utf-8')\n",
    "# メモ帳の文字コードを「ANSI」で保存していた場合はdecode('shift-jis')\n",
    "text = binary_data.decode('shift-jis')"
   ]
  },
  {
   "cell_type": "markdown",
   "metadata": {},
   "source": [
    "### 正規表現で該当文字列を削除\n",
    "#### タイトル名、作者名、-（ハイフン）内の文字列を削除\n",
    "##### 参考URL：http://www-creators.com/archives/4278"
   ]
  },
  {
   "cell_type": "code",
   "execution_count": 3,
   "metadata": {
    "collapsed": true
   },
   "outputs": [],
   "source": [
    "# -（ハイフン）が5つ以上:-{5,}\n",
    "# {n,}:直前の文字がn回以上に一致\n",
    "# 参考URL：http://hodade.com/seiki/page.php?study1\n",
    "# split関数を使うことでtextはリスト型になる\n",
    "# 今回は-（ハイフン）が5つ以上の箇所で区切ることになるのでtext[0]=タイトル名、作者名 text[1]=【テキスト中に現れる記号について】text[2]=本文 となる\n",
    "# -（ハイフン）の前に「\\」を付けることで正規表現の-（ハイフン）ではなく単なる文字としての-（ハイフン）という意味に変更している\n",
    "# 「\\」:直後の文字を正規表現の記号（メタ文字）として扱わないことを指定\n",
    "text = re.split('\\-{5,}', text)[2]"
   ]
  },
  {
   "cell_type": "markdown",
   "metadata": {},
   "source": [
    "#### 文末の「（スペース）底本：」以降の文字列を削除"
   ]
  },
  {
   "cell_type": "code",
   "execution_count": 4,
   "metadata": {
    "collapsed": true
   },
   "outputs": [],
   "source": [
    "text = re.split('底本：', text)[0]"
   ]
  },
  {
   "cell_type": "markdown",
   "metadata": {},
   "source": [
    "#### 空白文字(スペースやタブ、改行)を削除"
   ]
  },
  {
   "cell_type": "code",
   "execution_count": 5,
   "metadata": {
    "collapsed": true
   },
   "outputs": [],
   "source": [
    "# strip関数は文字の間に入っている空白を削除しない\n",
    "text = text.strip()"
   ]
  },
  {
   "cell_type": "markdown",
   "metadata": {},
   "source": [
    "#### 《》：ルビを削除"
   ]
  },
  {
   "cell_type": "code",
   "execution_count": 6,
   "metadata": {
    "collapsed": true
   },
   "outputs": [],
   "source": [
    "# 置換後の文字列 = re.sub(正規表現, 置換後文字, 置換される文字列 [, 置換回数])\n",
    "# 「.」:あらゆる一文字 「.」を４つ並べば、何の文字かを問わずに「４文字の文字列」を表す\n",
    "# しかしながら、文字数の分だけ何度も「.」を繰り返し入力するのは大変。\n",
    "# そんな時、そのパターンが何回繰り返されるかを単純に表現するのが「+」\n",
    "# 「+」:直前のパターンの１回以上の繰り返しを表す\n",
    "# 「?」:０回か、１回の繰り返し\n",
    "text = re.sub('《.+》', '', text)"
   ]
  },
  {
   "cell_type": "markdown",
   "metadata": {},
   "source": [
    "#### ｜：ルビの付く文字列の始まりを特定する記号を削除"
   ]
  },
  {
   "cell_type": "code",
   "execution_count": 7,
   "metadata": {
    "collapsed": true
   },
   "outputs": [],
   "source": [
    "text = text.replace('｜', '')"
   ]
  },
  {
   "cell_type": "markdown",
   "metadata": {},
   "source": [
    "#### ［＃］：入力者注　主に外字の説明や、傍点の位置の指定 する記号を削除"
   ]
  },
  {
   "cell_type": "code",
   "execution_count": 8,
   "metadata": {
    "collapsed": true
   },
   "outputs": [],
   "source": [
    "text = re.sub('［＃.+］', '', text)"
   ]
  },
  {
   "cell_type": "markdown",
   "metadata": {},
   "source": [
    "### neologdnで正規化、Mecab + neologd 辞書による形態素解析、品詞によって単語を絞りデータフレームにする関数"
   ]
  },
  {
   "cell_type": "code",
   "execution_count": 9,
   "metadata": {
    "collapsed": true
   },
   "outputs": [],
   "source": [
    "def get_wakati_text_df(text):\n",
    "    text_normalization = neologdn.normalize(text)\n",
    "    neologd_tagger = MeCab.Tagger('-Ochasen -d C:\\mecab-ipadic-neologd')\n",
    "    \n",
    "    # neologd_tagger.parse(text)で各単語の原形、品詞などが1行で連続して表示される\n",
    "    # 原形、品詞などの間には「\\t」が、分かち書きされた単語と単語の区切りには「\\n」が表示される\n",
    "    # 例: '空い\\tアイ\\t空く\\t動詞-自立\\t五段・カ行イ音便\\t連用タ接続\\nた\\tタ\\tた\\t助動詞\\t特殊・タ\\t基本形\\n時間....\n",
    "    # まずはparse()で分かち書きした単語群は1つの文字列型になっているので「\\n」で区切り、リスト型にする\n",
    "    wakati_text_list = neologd_tagger.parse(text_normalization).split('\\n')\n",
    "    # 「\\n」で区切り、リスト型にした結果の例は下記\n",
    "    # ['空い\\tアイ\\t空く\\t動詞-自立\\t五段・カ行イ音便\\t連用タ接続', ：リスト0番目\n",
    "    # 'た\\tタ\\tた\\t助動詞\\t特殊・タ\\t基本形',：リスト1番目\n",
    "    # '時間\\tジカン\\t時間\\t名詞-副詞可能\\t\\t',：リスト2番目\n",
    "    \n",
    "    ##【形態素解析結果を格納したリストから特定の品詞（品詞詳細部分まで考慮に入れた場合）のみ抽出】\n",
    "    # 抽出したい品詞のリストを作成（完全一致）\n",
    "    # 品詞参考URL：http://miner.hatenablog.com/entry/323\n",
    "    hinshi_list = ['名詞-一般', '名詞-形容動詞語幹', '名詞-固有名詞-一般',  '名詞-サ変接続', '形容詞-自立', '形容詞-接尾', '形容詞-非自立', '動詞-自立', '動詞-接尾', '動詞-非自立', '副詞-一般', '副詞-助詞類接続']\n",
    "    # hinshi_list = ('名詞-一般', '名詞-サ変接続', '名詞-固有名詞', '名詞-形容動詞語幹'...)とタプルでも同じ結果\n",
    "    wakati_list = []\n",
    "    # parse() の出力結果の最後は「EOS」という文字のみ\n",
    "    # EOSのとき、pos = wakati.split('\\t')[3]の要素はないので下記forループを実行すると「list index out of range」とエラーを発生させてしまう\n",
    "    # よってEOSのときは条件分岐if~breakでforループから抜け出すよう記述\n",
    "    for wakati in wakati_text_list:\n",
    "        surface = wakati.split('\\t')[0]\n",
    "        if surface == 'EOS':\n",
    "            break\n",
    "        else:\n",
    "            pos = wakati.split('\\t')[3]\n",
    "            if pos in hinshi_list:# posはhinshi_listの中の要素と完全一致していないと抽出できない\n",
    "                wakati_list.append(wakati)\n",
    "    # ここまでで品詞によって単語を絞った\n",
    "    # 次に邪魔な文字「\\t」を省きたい。よって、split('\\t')を使用したいがwakati_text_listは文字列型ではなくリスト型のためsplit関数を使用できない\n",
    "    # そこで、リスト型のwakati_text_listをまずSeries型に変更して「str（str アクセサ）」を呼び出せるようにした後にstrを使用してリストの内部の文字列に対してsplit関数を実行する\n",
    "    ##（「str」がないとエラー：'Series' object has no attribute 'split'が発生する）\n",
    "    ## pandas では内部（今回はリストの内部）のデータ型が文字列 ( str もしくは unicode ) 型のとき、 str アクセサを使ってデータの各要素に対して文字列メソッドを適用することができる\n",
    "    ##今回は str アクセサを通じて、リスト内の各要素に split メソッドを適用\n",
    "    ## 参考URL：http://sinhrks.hatenablog.com/entry/2014/12/06/233032\n",
    "    # pd.Series(wakati_list).str.split('\\t')までで各要素をリスト型にしたものの、全体はSeries型のままである\n",
    "    # そこで最後にtolist関数でリスト型にする\n",
    "    # 結果、['た', 'タ', 'た', '助動詞', '特殊・タ', '基本形'],['時間', 'ジカン', '時間', '名詞-副詞可能', '', ''],といった単語毎にリスト化されている状態、リストの中にリストが作成されている\n",
    "    wakati_results_list = pd.Series(wakati_list).str.split('\\t').tolist()\n",
    "    \n",
    "    # リスト型のwakati_listをデータフレーム型にする\n",
    "    # pd.DataFrame.from_records 参考URL：http://pbpython.com/pandas-list-dict.html\n",
    "    df = pd.DataFrame.from_records(wakati_results_list)\n",
    "    # カラムがまだないのでカラムを作成\n",
    "    columns = ['surface', 'yomi', 'base', 'type', 'katsuyoukei', 'katsuyougata']\n",
    "    # 作成データフレームのカラムを上記のカラムにする\n",
    "    df.columns = columns\n",
    "    # 'EOS’は最後から2つ目の要素（最後の要素は「['']」）\n",
    "    # これら2つ以外のsurfaceを格納したデータフレームを返り値にする\n",
    "    return df.query(\"surface != 'EOS'\").query(\"surface != ''\")"
   ]
  },
  {
   "cell_type": "code",
   "execution_count": 10,
   "metadata": {},
   "outputs": [
    {
     "data": {
      "text/html": [
       "<div>\n",
       "<style scoped>\n",
       "    .dataframe tbody tr th:only-of-type {\n",
       "        vertical-align: middle;\n",
       "    }\n",
       "\n",
       "    .dataframe tbody tr th {\n",
       "        vertical-align: top;\n",
       "    }\n",
       "\n",
       "    .dataframe thead th {\n",
       "        text-align: right;\n",
       "    }\n",
       "</style>\n",
       "<table border=\"1\" class=\"dataframe\">\n",
       "  <thead>\n",
       "    <tr style=\"text-align: right;\">\n",
       "      <th></th>\n",
       "      <th>surface</th>\n",
       "      <th>yomi</th>\n",
       "      <th>base</th>\n",
       "      <th>type</th>\n",
       "      <th>katsuyoukei</th>\n",
       "      <th>katsuyougata</th>\n",
       "    </tr>\n",
       "  </thead>\n",
       "  <tbody>\n",
       "    <tr>\n",
       "      <th>0</th>\n",
       "      <td>骸骨</td>\n",
       "      <td>ガイコツ</td>\n",
       "      <td>骸骨</td>\n",
       "      <td>名詞-一般</td>\n",
       "      <td></td>\n",
       "      <td></td>\n",
       "    </tr>\n",
       "    <tr>\n",
       "      <th>1</th>\n",
       "      <td>紳士</td>\n",
       "      <td>シンシ</td>\n",
       "      <td>紳士</td>\n",
       "      <td>名詞-一般</td>\n",
       "      <td></td>\n",
       "      <td></td>\n",
       "    </tr>\n",
       "    <tr>\n",
       "      <th>2</th>\n",
       "      <td>がた</td>\n",
       "      <td>ガタ</td>\n",
       "      <td>がた</td>\n",
       "      <td>名詞-一般</td>\n",
       "      <td></td>\n",
       "      <td></td>\n",
       "    </tr>\n",
       "    <tr>\n",
       "      <th>3</th>\n",
       "      <td>名コンビ</td>\n",
       "      <td>メイコンビ</td>\n",
       "      <td>名コンビ</td>\n",
       "      <td>名詞-一般</td>\n",
       "      <td></td>\n",
       "      <td></td>\n",
       "    </tr>\n",
       "    <tr>\n",
       "      <th>4</th>\n",
       "      <td>さびし</td>\n",
       "      <td>サビシ</td>\n",
       "      <td>さびしい</td>\n",
       "      <td>形容詞-自立</td>\n",
       "      <td>形容詞・イ段</td>\n",
       "      <td>ガル接続</td>\n",
       "    </tr>\n",
       "    <tr>\n",
       "      <th>5</th>\n",
       "      <td>いやしき</td>\n",
       "      <td>イヤシキ</td>\n",
       "      <td>いやしい</td>\n",
       "      <td>形容詞-自立</td>\n",
       "      <td>形容詞・イ段</td>\n",
       "      <td>体言接続</td>\n",
       "    </tr>\n",
       "    <tr>\n",
       "      <th>6</th>\n",
       "      <td>まち</td>\n",
       "      <td>マチ</td>\n",
       "      <td>まち</td>\n",
       "      <td>名詞-一般</td>\n",
       "      <td></td>\n",
       "      <td></td>\n",
       "    </tr>\n",
       "    <tr>\n",
       "      <th>7</th>\n",
       "      <td>歩い</td>\n",
       "      <td>アルイ</td>\n",
       "      <td>歩く</td>\n",
       "      <td>動詞-自立</td>\n",
       "      <td>五段・カ行イ音便</td>\n",
       "      <td>連用タ接続</td>\n",
       "    </tr>\n",
       "    <tr>\n",
       "      <th>8</th>\n",
       "      <td>い</td>\n",
       "      <td>イ</td>\n",
       "      <td>いる</td>\n",
       "      <td>動詞-非自立</td>\n",
       "      <td>一段</td>\n",
       "      <td>連用形</td>\n",
       "    </tr>\n",
       "    <tr>\n",
       "      <th>9</th>\n",
       "      <td>きょうは</td>\n",
       "      <td>キョウハ</td>\n",
       "      <td>教派</td>\n",
       "      <td>名詞-一般</td>\n",
       "      <td></td>\n",
       "      <td></td>\n",
       "    </tr>\n",
       "    <tr>\n",
       "      <th>10</th>\n",
       "      <td>ノロ</td>\n",
       "      <td>ノロ</td>\n",
       "      <td>ノロ</td>\n",
       "      <td>名詞-一般</td>\n",
       "      <td></td>\n",
       "      <td></td>\n",
       "    </tr>\n",
       "    <tr>\n",
       "      <th>11</th>\n",
       "      <td>うち</td>\n",
       "      <td>ウチ</td>\n",
       "      <td>うち</td>\n",
       "      <td>名詞-一般</td>\n",
       "      <td></td>\n",
       "      <td></td>\n",
       "    </tr>\n",
       "    <tr>\n",
       "      <th>12</th>\n",
       "      <td>遊び</td>\n",
       "      <td>アソビ</td>\n",
       "      <td>遊び</td>\n",
       "      <td>名詞-一般</td>\n",
       "      <td></td>\n",
       "      <td></td>\n",
       "    </tr>\n",
       "    <tr>\n",
       "      <th>13</th>\n",
       "      <td>いっ</td>\n",
       "      <td>イッ</td>\n",
       "      <td>いく</td>\n",
       "      <td>動詞-自立</td>\n",
       "      <td>五段・カ行促音便</td>\n",
       "      <td>連用タ接続</td>\n",
       "    </tr>\n",
       "    <tr>\n",
       "      <th>14</th>\n",
       "      <td>ノロ</td>\n",
       "      <td>ノロ</td>\n",
       "      <td>ノロ</td>\n",
       "      <td>名詞-一般</td>\n",
       "      <td></td>\n",
       "      <td></td>\n",
       "    </tr>\n",
       "    <tr>\n",
       "      <th>15</th>\n",
       "      <td>送っ</td>\n",
       "      <td>オクッ</td>\n",
       "      <td>送る</td>\n",
       "      <td>動詞-自立</td>\n",
       "      <td>五段・ラ行</td>\n",
       "      <td>連用タ接続</td>\n",
       "    </tr>\n",
       "    <tr>\n",
       "      <th>16</th>\n",
       "      <td>いく</td>\n",
       "      <td>イク</td>\n",
       "      <td>いく</td>\n",
       "      <td>動詞-非自立</td>\n",
       "      <td>五段・カ行促音便</td>\n",
       "      <td>基本形</td>\n",
       "    </tr>\n",
       "    <tr>\n",
       "      <th>17</th>\n",
       "      <td>ノロ</td>\n",
       "      <td>ノロ</td>\n",
       "      <td>ノロ</td>\n",
       "      <td>名詞-一般</td>\n",
       "      <td></td>\n",
       "      <td></td>\n",
       "    </tr>\n",
       "    <tr>\n",
       "      <th>18</th>\n",
       "      <td>あだな</td>\n",
       "      <td>アダナ</td>\n",
       "      <td>あだな</td>\n",
       "      <td>名詞-一般</td>\n",
       "      <td></td>\n",
       "      <td></td>\n",
       "    </tr>\n",
       "    <tr>\n",
       "      <th>19</th>\n",
       "      <td>ノロ</td>\n",
       "      <td>ノロ</td>\n",
       "      <td>ノロ</td>\n",
       "      <td>名詞-一般</td>\n",
       "      <td></td>\n",
       "      <td></td>\n",
       "    </tr>\n",
       "  </tbody>\n",
       "</table>\n",
       "</div>"
      ],
      "text/plain": [
       "   surface   yomi  base    type katsuyoukei katsuyougata\n",
       "0       骸骨   ガイコツ    骸骨   名詞-一般                         \n",
       "1       紳士    シンシ    紳士   名詞-一般                         \n",
       "2       がた     ガタ    がた   名詞-一般                         \n",
       "3     名コンビ  メイコンビ  名コンビ   名詞-一般                         \n",
       "4      さびし    サビシ  さびしい  形容詞-自立      形容詞・イ段         ガル接続\n",
       "5     いやしき   イヤシキ  いやしい  形容詞-自立      形容詞・イ段         体言接続\n",
       "6       まち     マチ    まち   名詞-一般                         \n",
       "7       歩い    アルイ    歩く   動詞-自立    五段・カ行イ音便        連用タ接続\n",
       "8        い      イ    いる  動詞-非自立          一段          連用形\n",
       "9     きょうは   キョウハ    教派   名詞-一般                         \n",
       "10      ノロ     ノロ    ノロ   名詞-一般                         \n",
       "11      うち     ウチ    うち   名詞-一般                         \n",
       "12      遊び    アソビ    遊び   名詞-一般                         \n",
       "13      いっ     イッ    いく   動詞-自立    五段・カ行促音便        連用タ接続\n",
       "14      ノロ     ノロ    ノロ   名詞-一般                         \n",
       "15      送っ    オクッ    送る   動詞-自立       五段・ラ行        連用タ接続\n",
       "16      いく     イク    いく  動詞-非自立    五段・カ行促音便          基本形\n",
       "17      ノロ     ノロ    ノロ   名詞-一般                         \n",
       "18     あだな    アダナ   あだな   名詞-一般                         \n",
       "19      ノロ     ノロ    ノロ   名詞-一般                         "
      ]
     },
     "execution_count": 10,
     "metadata": {},
     "output_type": "execute_result"
    }
   ],
   "source": [
    "wakati_df = get_wakati_text_df(text)\n",
    "wakati_df.head(20)"
   ]
  },
  {
   "cell_type": "markdown",
   "metadata": {},
   "source": [
    "##### 参考1:udemy講座「【TensorFlow・Keras・Python3で学ぶ】時系列データ処理入門（RNN/LSTM, Word2Vec)」\n",
    "##### 参考2:https://datumstudio.jp/blog/python%e3%81%ab%e3%82%88%e3%82%8b%e6%97%a5%e6%9c%ac%e8%aa%9e%e5%89%8d%e5%87%a6%e7%90%86%e5%82%99%e5%bf%98%e9%8c%b2"
   ]
  },
  {
   "cell_type": "code",
   "execution_count": null,
   "metadata": {
    "collapsed": true
   },
   "outputs": [],
   "source": []
  }
 ],
 "metadata": {
  "kernelspec": {
   "display_name": "Python 3",
   "language": "python",
   "name": "python3"
  },
  "language_info": {
   "codemirror_mode": {
    "name": "ipython",
    "version": 3
   },
   "file_extension": ".py",
   "mimetype": "text/x-python",
   "name": "python",
   "nbconvert_exporter": "python",
   "pygments_lexer": "ipython3",
   "version": "3.6.3"
  }
 },
 "nbformat": 4,
 "nbformat_minor": 2
}
