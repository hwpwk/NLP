{
 "cells": [
  {
   "cell_type": "code",
   "execution_count": 1,
   "metadata": {},
   "outputs": [],
   "source": [
    "import pandas as pd\n",
    "import numpy as np\n",
    "\n",
    "# 可視化用のライブラリ\n",
    "from matplotlib import pyplot as plt\n",
    "import seaborn as sns\n",
    "%matplotlib inline\n",
    "\n",
    "import neologdn\n",
    "import MeCab\n",
    "\n",
    "import re\n",
    "\n",
    "from tqdm import tqdm_notebook as tqdm\n",
    "from tqdm._tqdm_notebook import tqdm_notebook\n",
    "# # プログレスバーのラベル設定\n",
    "tqdm_notebook.pandas(desc=\"progress: \")"
   ]
  },
  {
   "cell_type": "markdown",
   "metadata": {},
   "source": [
    "### 保存したテキスト内容×単語のデータフレーム を読み込み"
   ]
  },
  {
   "cell_type": "code",
   "execution_count": 2,
   "metadata": {},
   "outputs": [
    {
     "data": {
      "text/html": [
       "<div>\n",
       "<style scoped>\n",
       "    .dataframe tbody tr th:only-of-type {\n",
       "        vertical-align: middle;\n",
       "    }\n",
       "\n",
       "    .dataframe tbody tr th {\n",
       "        vertical-align: top;\n",
       "    }\n",
       "\n",
       "    .dataframe thead th {\n",
       "        text-align: right;\n",
       "    }\n",
       "</style>\n",
       "<table border=\"1\" class=\"dataframe\">\n",
       "  <thead>\n",
       "    <tr style=\"text-align: right;\">\n",
       "      <th></th>\n",
       "      <th>内容</th>\n",
       "      <th>__記号-一般</th>\n",
       "      <th>t_名詞-固有名詞-組織</th>\n",
       "      <th>text_名詞-固有名詞-一般</th>\n",
       "      <th>、_記号-読点</th>\n",
       "      <th>「_記号-括弧開</th>\n",
       "      <th>」_記号-括弧閉</th>\n",
       "      <th>が_助詞-格助詞-一般</th>\n",
       "      <th>する_動詞-自立</th>\n",
       "      <th>で_助詞-格助詞-一般</th>\n",
       "      <th>の_助詞-連体化</th>\n",
       "      <th>は_助詞-係助詞</th>\n",
       "      <th>れる_動詞-接尾</th>\n",
       "      <th>単語_名詞-一般</th>\n",
       "      <th>型_名詞-接尾-一般</th>\n",
       "      <th>＼_記号-一般</th>\n",
       "    </tr>\n",
       "  </thead>\n",
       "  <tbody>\n",
       "    <tr>\n",
       "      <th>0</th>\n",
       "      <td>neologd_tagger.parse(text)で各単語の原形、品詞などが1行で連続して...</td>\n",
       "      <td>0.065121</td>\n",
       "      <td>0.000000</td>\n",
       "      <td>0.065121</td>\n",
       "      <td>0.038462</td>\n",
       "      <td>0.000000</td>\n",
       "      <td>0.000000</td>\n",
       "      <td>0.065121</td>\n",
       "      <td>0.076923</td>\n",
       "      <td>0.099052</td>\n",
       "      <td>0.038462</td>\n",
       "      <td>0.000000</td>\n",
       "      <td>0.065121</td>\n",
       "      <td>0.049526</td>\n",
       "      <td>0.000000</td>\n",
       "      <td>0.000000</td>\n",
       "    </tr>\n",
       "    <tr>\n",
       "      <th>1</th>\n",
       "      <td>まずはparse()で分かち書きした単語群は1つの文字列型になっているので「＼n」で区切り、...</td>\n",
       "      <td>0.000000</td>\n",
       "      <td>0.000000</td>\n",
       "      <td>0.000000</td>\n",
       "      <td>0.033333</td>\n",
       "      <td>0.056438</td>\n",
       "      <td>0.042923</td>\n",
       "      <td>0.000000</td>\n",
       "      <td>0.066667</td>\n",
       "      <td>0.085845</td>\n",
       "      <td>0.033333</td>\n",
       "      <td>0.042923</td>\n",
       "      <td>0.000000</td>\n",
       "      <td>0.042923</td>\n",
       "      <td>0.112876</td>\n",
       "      <td>0.056438</td>\n",
       "    </tr>\n",
       "    <tr>\n",
       "      <th>2</th>\n",
       "      <td>原形、品詞などの間には「＼t」が、分かち書きされた単語と単語の区切りには「＼n」が表示される</td>\n",
       "      <td>0.000000</td>\n",
       "      <td>0.051307</td>\n",
       "      <td>0.000000</td>\n",
       "      <td>0.060606</td>\n",
       "      <td>0.102615</td>\n",
       "      <td>0.078041</td>\n",
       "      <td>0.102615</td>\n",
       "      <td>0.060606</td>\n",
       "      <td>0.000000</td>\n",
       "      <td>0.060606</td>\n",
       "      <td>0.078041</td>\n",
       "      <td>0.102615</td>\n",
       "      <td>0.078041</td>\n",
       "      <td>0.000000</td>\n",
       "      <td>0.102615</td>\n",
       "    </tr>\n",
       "    <tr>\n",
       "      <th>3</th>\n",
       "      <td>次に邪魔な文字「＼t」を省きたい。よって、split('＼t')を使用したいがwakatid...</td>\n",
       "      <td>0.041296</td>\n",
       "      <td>0.082593</td>\n",
       "      <td>0.041296</td>\n",
       "      <td>0.024390</td>\n",
       "      <td>0.000000</td>\n",
       "      <td>0.031407</td>\n",
       "      <td>0.000000</td>\n",
       "      <td>0.024390</td>\n",
       "      <td>0.031407</td>\n",
       "      <td>0.024390</td>\n",
       "      <td>0.062814</td>\n",
       "      <td>0.000000</td>\n",
       "      <td>0.000000</td>\n",
       "      <td>0.082593</td>\n",
       "      <td>0.000000</td>\n",
       "    </tr>\n",
       "  </tbody>\n",
       "</table>\n",
       "</div>"
      ],
      "text/plain": [
       "                                                  内容   __記号-一般  t_名詞-固有名詞-組織  \\\n",
       "0  neologd_tagger.parse(text)で各単語の原形、品詞などが1行で連続して...  0.065121      0.000000   \n",
       "1  まずはparse()で分かち書きした単語群は1つの文字列型になっているので「＼n」で区切り、...  0.000000      0.000000   \n",
       "2     原形、品詞などの間には「＼t」が、分かち書きされた単語と単語の区切りには「＼n」が表示される  0.000000      0.051307   \n",
       "3  次に邪魔な文字「＼t」を省きたい。よって、split('＼t')を使用したいがwakatid...  0.041296      0.082593   \n",
       "\n",
       "   text_名詞-固有名詞-一般   、_記号-読点  「_記号-括弧開  」_記号-括弧閉  が_助詞-格助詞-一般  する_動詞-自立  \\\n",
       "0         0.065121  0.038462  0.000000  0.000000     0.065121  0.076923   \n",
       "1         0.000000  0.033333  0.056438  0.042923     0.000000  0.066667   \n",
       "2         0.000000  0.060606  0.102615  0.078041     0.102615  0.060606   \n",
       "3         0.041296  0.024390  0.000000  0.031407     0.000000  0.024390   \n",
       "\n",
       "   で_助詞-格助詞-一般  の_助詞-連体化  は_助詞-係助詞  れる_動詞-接尾  単語_名詞-一般  型_名詞-接尾-一般   ＼_記号-一般  \n",
       "0     0.099052  0.038462  0.000000  0.065121  0.049526    0.000000  0.000000  \n",
       "1     0.085845  0.033333  0.042923  0.000000  0.042923    0.112876  0.056438  \n",
       "2     0.000000  0.060606  0.078041  0.102615  0.078041    0.000000  0.102615  \n",
       "3     0.031407  0.024390  0.062814  0.000000  0.000000    0.082593  0.000000  "
      ]
     },
     "execution_count": 2,
     "metadata": {},
     "output_type": "execute_result"
    }
   ],
   "source": [
    "# 今回はencoding='utf-8'でjupyter上では文字化けなく読み込めた\n",
    "#model_tfidf_df = pd.read_csv('model_df.csv', encoding='shift_jis')\n",
    "model_tfidf_df = pd.read_csv('model_tfidf_df.csv', encoding='utf-8')\n",
    "model_tfidf_df"
   ]
  },
  {
   "cell_type": "markdown",
   "metadata": {},
   "source": [
    "## 次元削減のための準備\n",
    "#### DataFrameからarray型へ変換"
   ]
  },
  {
   "cell_type": "code",
   "execution_count": 3,
   "metadata": {
    "scrolled": true
   },
   "outputs": [
    {
     "data": {
      "text/plain": [
       "array([[0.06512105, 0.        , 0.06512105, 0.03846154, 0.        ,\n",
       "        0.        , 0.06512105, 0.07692308, 0.09905247, 0.03846154,\n",
       "        0.        , 0.06512105, 0.04952623, 0.        , 0.        ],\n",
       "       [0.        , 0.        , 0.        , 0.03333333, 0.05643824,\n",
       "        0.04292274, 0.        , 0.06666667, 0.08584547, 0.03333333,\n",
       "        0.04292274, 0.        , 0.04292274, 0.11287648, 0.05643824],\n",
       "       [0.        , 0.05130749, 0.        , 0.06060606, 0.10261498,\n",
       "        0.07804134, 0.10261498, 0.06060606, 0.        , 0.06060606,\n",
       "        0.07804134, 0.10261498, 0.07804134, 0.        , 0.10261498],\n",
       "       [0.04129627, 0.08259255, 0.04129627, 0.02439024, 0.        ,\n",
       "        0.03140688, 0.        , 0.02439024, 0.03140688, 0.02439024,\n",
       "        0.06281376, 0.        , 0.        , 0.08259255, 0.        ]])"
      ]
     },
     "execution_count": 3,
     "metadata": {},
     "output_type": "execute_result"
    }
   ],
   "source": [
    "model_tfidf_df_array = model_tfidf_df.iloc[:, 1:].values# [内容]カラムのみarray型にしないため除外\n",
    "model_tfidf_df_array"
   ]
  },
  {
   "cell_type": "markdown",
   "metadata": {},
   "source": [
    "## NMFで次元削減"
   ]
  },
  {
   "cell_type": "code",
   "execution_count": 4,
   "metadata": {},
   "outputs": [
    {
     "data": {
      "text/plain": [
       "array([[0.07638544, 0.15842403],\n",
       "       [0.06807093, 0.2038885 ],\n",
       "       [0.34804573, 0.        ],\n",
       "       [0.00532199, 0.17673225]])"
      ]
     },
     "execution_count": 4,
     "metadata": {},
     "output_type": "execute_result"
    }
   ],
   "source": [
    "# 2次元に変換\n",
    "from sklearn.decomposition import NMF\n",
    "model = NMF(n_components=2, init='random', random_state=0)\n",
    "tfidf_NMF = model.fit_transform(model_tfidf_df_array)\n",
    "tfidf_NMF"
   ]
  },
  {
   "cell_type": "markdown",
   "metadata": {},
   "source": [
    "## PCAで次元削減"
   ]
  },
  {
   "cell_type": "code",
   "execution_count": 5,
   "metadata": {},
   "outputs": [
    {
     "data": {
      "text/plain": [
       "array([[ 1.38023241, -0.94950885,  1.38023241, -0.05516488, -0.92506408,\n",
       "        -1.3650381 ,  0.52722531,  0.9992857 ,  1.11828285, -0.05516488,\n",
       "        -1.56787689,  0.52722531,  0.24723323, -0.97682787, -0.92506408],\n",
       "       [-0.95335641, -0.94950885, -0.95335641, -0.43940215,  0.3879301 ,\n",
       "         0.17308103, -0.95349258,  0.4810418 ,  0.78990615, -0.43940215,\n",
       "        -0.10311774, -0.95349258,  0.01074927,  1.27950693,  0.3879301 ],\n",
       "       [-0.95335641,  0.50581312, -0.95335641,  1.60404147,  1.46219806,\n",
       "         1.43154215,  1.37975986,  0.17480677, -1.3445424 ,  1.60404147,\n",
       "         1.09532155,  1.37975986,  1.26841397, -0.97682787,  1.46219806],\n",
       "       [ 0.5264804 ,  1.39320457,  0.5264804 , -1.10947444, -0.92506408,\n",
       "        -0.23958508, -0.95349258, -1.65513427, -0.56364659, -1.10947444,\n",
       "         0.57567308, -0.95349258, -1.52639647,  0.67414881, -0.92506408]])"
      ]
     },
     "execution_count": 5,
     "metadata": {},
     "output_type": "execute_result"
    }
   ],
   "source": [
    "# StandardScaler を利用し数値を標準化(平均が 0 で標準偏差・分散が 1 )\n",
    "# 負の値が出てくるのでNMFでの次元削減はできない\n",
    "from sklearn.preprocessing import StandardScaler\n",
    "sds = StandardScaler()\n",
    "X_sds = sds.fit_transform(model_tfidf_df_array)\n",
    "X_sds"
   ]
  },
  {
   "cell_type": "code",
   "execution_count": 6,
   "metadata": {},
   "outputs": [
    {
     "data": {
      "text/plain": [
       "array([[-1.68344157,  3.40572594],\n",
       "       [-0.38990955, -0.89529288],\n",
       "       [ 4.7285164 , -0.17353908],\n",
       "       [-2.65516527, -2.33689398]])"
      ]
     },
     "execution_count": 6,
     "metadata": {},
     "output_type": "execute_result"
    }
   ],
   "source": [
    "# 2次元に変換\n",
    "from sklearn.decomposition import PCA\n",
    "model = PCA(n_components=2)\n",
    "X_pca = model.fit_transform(X_sds)\n",
    "X_pca"
   ]
  },
  {
   "cell_type": "markdown",
   "metadata": {},
   "source": [
    "## t-SNEで次元圧縮"
   ]
  },
  {
   "cell_type": "code",
   "execution_count": 7,
   "metadata": {},
   "outputs": [
    {
     "data": {
      "text/plain": [
       "array([[-155.6651 ,  278.3851 ],\n",
       "       [-147.73701,  147.23216],\n",
       "       [-278.88998,  139.3046 ],\n",
       "       [-286.8181 ,  270.45758]], dtype=float32)"
      ]
     },
     "execution_count": 7,
     "metadata": {},
     "output_type": "execute_result"
    }
   ],
   "source": [
    "# StandardScaler利用後の値を使用\n",
    "# 2次元に変換\n",
    "from sklearn.manifold import TSNE\n",
    "X_sne = TSNE(n_components=2).fit_transform(X_sds)\n",
    "X_sne"
   ]
  },
  {
   "cell_type": "markdown",
   "metadata": {},
   "source": [
    "## 次元削減後の値を元データフレームと連結"
   ]
  },
  {
   "cell_type": "code",
   "execution_count": 8,
   "metadata": {},
   "outputs": [
    {
     "data": {
      "text/html": [
       "<div>\n",
       "<style scoped>\n",
       "    .dataframe tbody tr th:only-of-type {\n",
       "        vertical-align: middle;\n",
       "    }\n",
       "\n",
       "    .dataframe tbody tr th {\n",
       "        vertical-align: top;\n",
       "    }\n",
       "\n",
       "    .dataframe thead th {\n",
       "        text-align: right;\n",
       "    }\n",
       "</style>\n",
       "<table border=\"1\" class=\"dataframe\">\n",
       "  <thead>\n",
       "    <tr style=\"text-align: right;\">\n",
       "      <th></th>\n",
       "      <th>vec1</th>\n",
       "      <th>vec2</th>\n",
       "    </tr>\n",
       "  </thead>\n",
       "  <tbody>\n",
       "    <tr>\n",
       "      <th>0</th>\n",
       "      <td>0.076385</td>\n",
       "      <td>0.158424</td>\n",
       "    </tr>\n",
       "    <tr>\n",
       "      <th>1</th>\n",
       "      <td>0.068071</td>\n",
       "      <td>0.203889</td>\n",
       "    </tr>\n",
       "    <tr>\n",
       "      <th>2</th>\n",
       "      <td>0.348046</td>\n",
       "      <td>0.000000</td>\n",
       "    </tr>\n",
       "    <tr>\n",
       "      <th>3</th>\n",
       "      <td>0.005322</td>\n",
       "      <td>0.176732</td>\n",
       "    </tr>\n",
       "  </tbody>\n",
       "</table>\n",
       "</div>"
      ],
      "text/plain": [
       "       vec1      vec2\n",
       "0  0.076385  0.158424\n",
       "1  0.068071  0.203889\n",
       "2  0.348046  0.000000\n",
       "3  0.005322  0.176732"
      ]
     },
     "execution_count": 8,
     "metadata": {},
     "output_type": "execute_result"
    }
   ],
   "source": [
    "# 今回はNMFでの次元圧縮後の値を利用\n",
    "# arrayをDataFrameに変換\n",
    "dimension_reduction_df = pd.DataFrame(tfidf_NMF, columns=['vec1', 'vec2'])\n",
    "dimension_reduction_df"
   ]
  },
  {
   "cell_type": "code",
   "execution_count": 9,
   "metadata": {},
   "outputs": [
    {
     "data": {
      "text/html": [
       "<div>\n",
       "<style scoped>\n",
       "    .dataframe tbody tr th:only-of-type {\n",
       "        vertical-align: middle;\n",
       "    }\n",
       "\n",
       "    .dataframe tbody tr th {\n",
       "        vertical-align: top;\n",
       "    }\n",
       "\n",
       "    .dataframe thead th {\n",
       "        text-align: right;\n",
       "    }\n",
       "</style>\n",
       "<table border=\"1\" class=\"dataframe\">\n",
       "  <thead>\n",
       "    <tr style=\"text-align: right;\">\n",
       "      <th></th>\n",
       "      <th>内容</th>\n",
       "      <th>vec1</th>\n",
       "      <th>vec2</th>\n",
       "    </tr>\n",
       "  </thead>\n",
       "  <tbody>\n",
       "    <tr>\n",
       "      <th>0</th>\n",
       "      <td>neologd_tagger.parse(text)で各単語の原形、品詞などが1行で連続して...</td>\n",
       "      <td>0.076385</td>\n",
       "      <td>0.158424</td>\n",
       "    </tr>\n",
       "    <tr>\n",
       "      <th>1</th>\n",
       "      <td>まずはparse()で分かち書きした単語群は1つの文字列型になっているので「＼n」で区切り、...</td>\n",
       "      <td>0.068071</td>\n",
       "      <td>0.203889</td>\n",
       "    </tr>\n",
       "    <tr>\n",
       "      <th>2</th>\n",
       "      <td>原形、品詞などの間には「＼t」が、分かち書きされた単語と単語の区切りには「＼n」が表示される</td>\n",
       "      <td>0.348046</td>\n",
       "      <td>0.000000</td>\n",
       "    </tr>\n",
       "    <tr>\n",
       "      <th>3</th>\n",
       "      <td>次に邪魔な文字「＼t」を省きたい。よって、split('＼t')を使用したいがwakatid...</td>\n",
       "      <td>0.005322</td>\n",
       "      <td>0.176732</td>\n",
       "    </tr>\n",
       "  </tbody>\n",
       "</table>\n",
       "</div>"
      ],
      "text/plain": [
       "                                                  内容      vec1      vec2\n",
       "0  neologd_tagger.parse(text)で各単語の原形、品詞などが1行で連続して...  0.076385  0.158424\n",
       "1  まずはparse()で分かち書きした単語群は1つの文字列型になっているので「＼n」で区切り、...  0.068071  0.203889\n",
       "2     原形、品詞などの間には「＼t」が、分かち書きされた単語と単語の区切りには「＼n」が表示される  0.348046  0.000000\n",
       "3  次に邪魔な文字「＼t」を省きたい。よって、split('＼t')を使用したいがwakatid...  0.005322  0.176732"
      ]
     },
     "execution_count": 9,
     "metadata": {},
     "output_type": "execute_result"
    }
   ],
   "source": [
    "# index をキーとして結合したい場合は、DataFrame.join\n",
    "dimension_reduction_join_df = model_tfidf_df[['内容']].join(dimension_reduction_df)\n",
    "dimension_reduction_join_df"
   ]
  },
  {
   "cell_type": "code",
   "execution_count": null,
   "metadata": {},
   "outputs": [],
   "source": []
  }
 ],
 "metadata": {
  "kernelspec": {
   "display_name": "Python 3",
   "language": "python",
   "name": "python3"
  },
  "language_info": {
   "codemirror_mode": {
    "name": "ipython",
    "version": 3
   },
   "file_extension": ".py",
   "mimetype": "text/x-python",
   "name": "python",
   "nbconvert_exporter": "python",
   "pygments_lexer": "ipython3",
   "version": "3.6.5"
  }
 },
 "nbformat": 4,
 "nbformat_minor": 2
}
