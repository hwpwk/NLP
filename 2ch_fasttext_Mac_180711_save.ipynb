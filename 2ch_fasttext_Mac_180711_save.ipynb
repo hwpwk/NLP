{
 "cells": [
  {
   "cell_type": "code",
   "execution_count": 1,
   "metadata": {},
   "outputs": [],
   "source": [
    "import pandas as pd\n",
    "import numpy as np\n",
    "from matplotlib import pyplot as plt\n",
    "import seaborn as sns\n",
    "%matplotlib inline"
   ]
  },
  {
   "cell_type": "code",
   "execution_count": 2,
   "metadata": {},
   "outputs": [],
   "source": [
    "# facebookしゃのfasttextをパッケージ化したgensim\n",
    "import gensim.models.fasttext as ft"
   ]
  },
  {
   "cell_type": "code",
   "execution_count": 5,
   "metadata": {},
   "outputs": [],
   "source": [
    "#  htmlを分解していろいろ中身を取り出すためのパッケージ\n",
    "from pyquery import PyQuery as pq\n",
    "from pprint import pprint\n",
    "# 正規表現を取り扱うパッケージ\n",
    "import re"
   ]
  },
  {
   "cell_type": "code",
   "execution_count": 6,
   "metadata": {},
   "outputs": [],
   "source": [
    "# 取り出し元のurl\n",
    "url_o = \"http://hayabusa.open2ch.net\"\n",
    "# 取り出し物のurlだけどスレッドが一覧になってるスレ一覧　サッカーch\n",
    "url = \"http://hayabusa.open2ch.net/livefoot/subback.html\"\n",
    "#url = \"http://hayabusa.open2ch.net/livejupiter/subback.html\""
   ]
  },
  {
   "cell_type": "code",
   "execution_count": 7,
   "metadata": {},
   "outputs": [],
   "source": [
    "# pyqueryを用いてスレイ知覧urlからhtmlを分解した状態で取得\n",
    "dom = pq(url)"
   ]
  },
  {
   "cell_type": "code",
   "execution_count": 9,
   "metadata": {},
   "outputs": [],
   "source": [
    "linked_urls = [(url_o + link.attr[\"href\"])[:-3] for link in dom(\"a\").items()]"
   ]
  },
  {
   "cell_type": "code",
   "execution_count": 30,
   "metadata": {
    "scrolled": true
   },
   "outputs": [
    {
     "name": "stdout",
     "output_type": "stream",
     "text": [
      "0\n",
      "1\n",
      "2\n",
      "3\n",
      "4\n",
      "5\n",
      "6\n",
      "<dd>\n",
      "このスレッドは1000を超えました。<br/>もう書けないので、新しいスレッドを立ててくださいです。。。<br/>\n",
      "※スレ主は1005まで投稿できるよ。次スレ誘導とかに使ってね\n",
      "<br/><br/>\n",
      "</dd>\n",
      "\n",
      "\n",
      "7\n",
      "8\n",
      "9\n",
      "10\n",
      "11\n",
      "12\n",
      "13\n",
      "14\n",
      "15\n",
      "16\n",
      "17\n",
      "18\n",
      "19\n",
      "20\n",
      "<dd>\n",
      "このスレッドは1000を超えました。<br/>もう書けないので、新しいスレッドを立ててくださいです。。。<br/>\n",
      "※スレ主は1005まで投稿できるよ。次スレ誘導とかに使ってね\n",
      "<br/><br/>\n",
      "</dd>\n",
      "\n",
      "\n",
      "21\n",
      "22\n",
      "<dd>\n",
      "このスレッドは1000を超えました。<br/>もう書けないので、新しいスレッドを立ててくださいです。。。<br/>\n",
      "※スレ主は1005まで投稿できるよ。次スレ誘導とかに使ってね\n",
      "<br/><br/>\n",
      "</dd>\n",
      "\n",
      "\n",
      "23\n",
      "24\n",
      "25\n",
      "26\n",
      "27\n",
      "28\n",
      "29\n",
      "30\n",
      "31\n",
      "32\n",
      "33\n",
      "34\n",
      "35\n",
      "36\n",
      "37\n",
      "38\n",
      "39\n",
      "40\n",
      "41\n",
      "42\n",
      "43\n",
      "44\n",
      "45\n",
      "46\n",
      "47\n",
      "48\n",
      "49\n",
      "50\n",
      "51\n",
      "52\n",
      "53\n",
      "54\n",
      "55\n",
      "56\n",
      "<dd>\n",
      "このスレッドは1000を超えました。<br/>もう書けないので、新しいスレッドを立ててくださいです。。。<br/>\n",
      "※スレ主は1005まで投稿できるよ。次スレ誘導とかに使ってね\n",
      "<br/><br/>\n",
      "</dd>\n",
      "\n",
      "\n",
      "57\n",
      "58\n",
      "59\n",
      "60\n",
      "61\n",
      "62\n",
      "63\n",
      "64\n",
      "65\n",
      "66\n",
      "67\n",
      "68\n",
      "<dd>\n",
      "このスレッドは1000を超えました。<br/>もう書けないので、新しいスレッドを立ててくださいです。。。<br/>\n",
      "※スレ主は1005まで投稿できるよ。次スレ誘導とかに使ってね\n",
      "<br/><br/>\n",
      "</dd>\n",
      "\n",
      "\n",
      "69\n",
      "70\n",
      "71\n",
      "<dd>\n",
      "このスレッドは1000を超えました。<br/>もう書けないので、新しいスレッドを立ててくださいです。。。<br/>\n",
      "※スレ主は1005まで投稿できるよ。次スレ誘導とかに使ってね\n",
      "<br/><br/>\n",
      "</dd>\n",
      "\n",
      "\n",
      "72\n",
      "73\n",
      "74\n",
      "75\n",
      "76\n",
      "77\n",
      "78\n",
      "<dd>\n",
      "このスレッドは1000を超えました。<br/>もう書けないので、新しいスレッドを立ててくださいです。。。<br/>\n",
      "※スレ主は1005まで投稿できるよ。次スレ誘導とかに使ってね\n",
      "<br/><br/>\n",
      "</dd>\n",
      "\n",
      "\n",
      "79\n",
      "80\n",
      "81\n",
      "82\n",
      "83\n",
      "84\n",
      "85\n",
      "86\n",
      "87\n",
      "88\n",
      "89\n",
      "90\n",
      "91\n",
      "92\n",
      "<dd>\n",
      "このスレッドは1000を超えました。<br/>もう書けないので、新しいスレッドを立ててくださいです。。。<br/>\n",
      "※スレ主は1005まで投稿できるよ。次スレ誘導とかに使ってね\n",
      "<br/><br/>\n",
      "</dd>\n",
      "\n",
      "\n",
      "93\n",
      "<dd>\n",
      "このスレッドは1000を超えました。<br/>もう書けないので、新しいスレッドを立ててくださいです。。。<br/>\n",
      "※スレ主は1005まで投稿できるよ。次スレ誘導とかに使ってね\n",
      "<br/><br/>\n",
      "</dd>\n",
      "\n",
      "\n",
      "94\n",
      "95\n",
      "<dd>\n",
      "このスレッドは1000を超えました。<br/>もう書けないので、新しいスレッドを立ててくださいです。。。<br/>\n",
      "※スレ主は1005まで投稿できるよ。次スレ誘導とかに使ってね\n",
      "<br/><br/>\n",
      "</dd>\n",
      "\n",
      "\n",
      "96\n",
      "97\n",
      "<dd>\n",
      "このスレッドは1000を超えました。<br/>もう書けないので、新しいスレッドを立ててくださいです。。。<br/>\n",
      "※スレ主は1005まで投稿できるよ。次スレ誘導とかに使ってね\n",
      "<br/><br/>\n",
      "</dd>\n",
      "\n",
      "\n",
      "98\n",
      "<dd>\n",
      "このスレッドは1000を超えました。<br/>もう書けないので、新しいスレッドを立ててくださいです。。。<br/>\n",
      "※スレ主は1005まで投稿できるよ。次スレ誘導とかに使ってね\n",
      "<br/><br/>\n",
      "</dd>\n",
      "\n",
      "\n",
      "99\n",
      "100\n",
      "<dd>\n",
      "このスレッドは1000を超えました。<br/>もう書けないので、新しいスレッドを立ててくださいです。。。<br/>\n",
      "※スレ主は1005まで投稿できるよ。次スレ誘導とかに使ってね\n",
      "<br/><br/>\n",
      "</dd>\n",
      "\n",
      "\n",
      "101\n",
      "102\n",
      "103\n",
      "104\n",
      "105\n",
      "106\n",
      "107\n",
      "108\n",
      "<dd>\n",
      "このスレッドは1000を超えました。<br/>もう書けないので、新しいスレッドを立ててくださいです。。。<br/>\n",
      "※スレ主は1005まで投稿できるよ。次スレ誘導とかに使ってね\n",
      "<br/><br/>\n",
      "</dd>\n",
      "\n",
      "\n",
      "109\n",
      "110\n",
      "<dd>\n",
      "このスレッドは1000を超えました。<br/>もう書けないので、新しいスレッドを立ててくださいです。。。<br/>\n",
      "※スレ主は1005まで投稿できるよ。次スレ誘導とかに使ってね\n",
      "<br/><br/>\n",
      "</dd>\n",
      "\n",
      "\n",
      "111\n",
      "112\n",
      "113\n",
      "114\n",
      "115\n",
      "116\n",
      "<dd>\n",
      "このスレッドは1000を超えました。<br/>もう書けないので、新しいスレッドを立ててくださいです。。。<br/>\n",
      "※スレ主は1005まで投稿できるよ。次スレ誘導とかに使ってね\n",
      "<br/><br/>\n",
      "</dd>\n",
      "\n",
      "\n",
      "117\n",
      "<dd>\n",
      "このスレッドは1000を超えました。<br/>もう書けないので、新しいスレッドを立ててくださいです。。。<br/>\n",
      "※スレ主は1005まで投稿できるよ。次スレ誘導とかに使ってね\n",
      "<br/><br/>\n",
      "</dd>\n",
      "\n",
      "\n",
      "118\n",
      "119\n",
      "120\n",
      "121\n",
      "122\n",
      "123\n",
      "124\n",
      "125\n",
      "126\n",
      "127\n",
      "128\n",
      "129\n",
      "130\n",
      "131\n",
      "132\n",
      "<dd>\n",
      "このスレッドは1000を超えました。<br/>もう書けないので、新しいスレッドを立ててくださいです。。。<br/>\n",
      "※スレ主は1005まで投稿できるよ。次スレ誘導とかに使ってね\n",
      "<br/><br/>\n",
      "</dd>\n",
      "\n",
      "\n",
      "133\n",
      "134\n",
      "135\n",
      "<dd>\n",
      "このスレッドは1000を超えました。<br/>もう書けないので、新しいスレッドを立ててくださいです。。。<br/>\n",
      "※スレ主は1005まで投稿できるよ。次スレ誘導とかに使ってね\n",
      "<br/><br/>\n",
      "</dd>\n",
      "\n",
      "\n",
      "136\n",
      "137\n",
      "138\n",
      "<dd>\n",
      "このスレッドは1000を超えました。<br/>もう書けないので、新しいスレッドを立ててくださいです。。。<br/>\n",
      "※スレ主は1005まで投稿できるよ。次スレ誘導とかに使ってね\n",
      "<br/><br/>\n",
      "</dd>\n",
      "\n",
      "\n",
      "139\n",
      "140\n",
      "<dd>\n",
      "このスレッドは1000を超えました。<br/>もう書けないので、新しいスレッドを立ててくださいです。。。<br/>\n",
      "※スレ主は1005まで投稿できるよ。次スレ誘導とかに使ってね\n",
      "<br/><br/>\n",
      "</dd>\n",
      "\n",
      "\n",
      "141\n",
      "142\n",
      "143\n",
      "144\n",
      "<dd>\n",
      "このスレッドは1000を超えました。<br/>もう書けないので、新しいスレッドを立ててくださいです。。。<br/>\n",
      "※スレ主は1005まで投稿できるよ。次スレ誘導とかに使ってね\n",
      "<br/><br/>\n",
      "</dd>\n",
      "\n",
      "\n",
      "145\n",
      "146\n",
      "147\n",
      "148\n",
      "149\n",
      "<dd>\n",
      "このスレッドは1000を超えました。<br/>もう書けないので、新しいスレッドを立ててくださいです。。。<br/>\n",
      "※スレ主は1005まで投稿できるよ。次スレ誘導とかに使ってね\n",
      "<br/><br/>\n",
      "</dd>\n",
      "\n",
      "\n",
      "150\n",
      "<dd>\n",
      "このスレッドは1000を超えました。<br/>もう書けないので、新しいスレッドを立ててくださいです。。。<br/>\n",
      "※スレ主は1005まで投稿できるよ。次スレ誘導とかに使ってね\n",
      "<br/><br/>\n",
      "</dd>\n",
      "\n",
      "\n",
      "151\n",
      "152\n",
      "153\n",
      "154\n",
      "155\n",
      "156\n",
      "157\n",
      "158\n",
      "159\n",
      "160\n",
      "161\n",
      "162\n",
      "163\n",
      "164\n",
      "165\n",
      "166\n",
      "167\n",
      "168\n",
      "169\n",
      "170\n",
      "171\n",
      "172\n",
      "173\n",
      "174\n",
      "175\n",
      "176\n",
      "177\n",
      "178\n",
      "179\n",
      "180\n",
      "181\n",
      "182\n",
      "183\n",
      "184\n",
      "185\n",
      "186\n",
      "187\n",
      "188\n",
      "189\n",
      "190\n",
      "191\n",
      "<dd>\n",
      "このスレッドは1000を超えました。<br/>もう書けないので、新しいスレッドを立ててくださいです。。。<br/>\n",
      "※スレ主は1005まで投稿できるよ。次スレ誘導とかに使ってね\n",
      "<br/><br/>\n",
      "</dd>\n",
      "\n",
      "\n",
      "192\n",
      "<dd>\n",
      "このスレッドは1000を超えました。<br/>もう書けないので、新しいスレッドを立ててくださいです。。。<br/>\n",
      "※スレ主は1005まで投稿できるよ。次スレ誘導とかに使ってね\n",
      "<br/><br/>\n",
      "</dd>\n",
      "\n",
      "\n",
      "193\n",
      "194\n",
      "195\n",
      "196\n",
      "<dd>\n",
      "このスレッドは1000を超えました。<br/>もう書けないので、新しいスレッドを立ててくださいです。。。<br/>\n",
      "※スレ主は1005まで投稿できるよ。次スレ誘導とかに使ってね\n",
      "<br/><br/>\n",
      "</dd>\n",
      "\n",
      "\n",
      "197\n",
      "198\n",
      "199\n",
      "200\n",
      "201\n",
      "<dd>\n",
      "このスレッドは1000を超えました。<br/>もう書けないので、新しいスレッドを立ててくださいです。。。<br/>\n",
      "※スレ主は1005まで投稿できるよ。次スレ誘導とかに使ってね\n",
      "<br/><br/>\n",
      "</dd>\n",
      "\n",
      "\n",
      "202\n",
      "203\n",
      "204\n",
      "205\n",
      "206\n",
      "207\n",
      "208\n",
      "209\n",
      "<dd>\n",
      "このスレッドは1000を超えました。<br/>もう書けないので、新しいスレッドを立ててくださいです。。。<br/>\n",
      "※スレ主は1005まで投稿できるよ。次スレ誘導とかに使ってね\n",
      "<br/><br/>\n",
      "</dd>\n",
      "\n",
      "\n",
      "210\n",
      "211\n",
      "<dd>\n",
      "このスレッドは1000を超えました。<br/>もう書けないので、新しいスレッドを立ててくださいです。。。<br/>\n",
      "※スレ主は1005まで投稿できるよ。次スレ誘導とかに使ってね\n",
      "<br/><br/>\n",
      "</dd>\n",
      "\n",
      "\n",
      "212\n",
      "<dd>\n",
      "このスレッドは1000を超えました。<br/>もう書けないので、新しいスレッドを立ててくださいです。。。<br/>\n",
      "※スレ主は1005まで投稿できるよ。次スレ誘導とかに使ってね\n",
      "<br/><br/>\n",
      "</dd>\n",
      "\n",
      "\n",
      "213\n",
      "214\n",
      "215\n",
      "<dd>\n",
      "このスレッドは1000を超えました。<br/>もう書けないので、新しいスレッドを立ててくださいです。。。<br/>\n",
      "※スレ主は1005まで投稿できるよ。次スレ誘導とかに使ってね\n",
      "<br/><br/>\n",
      "</dd>\n",
      "\n",
      "\n",
      "216\n",
      "217\n",
      "218\n",
      "<dd>\n",
      "このスレッドは1000を超えました。<br/>もう書けないので、新しいスレッドを立ててくださいです。。。<br/>\n",
      "※スレ主は1005まで投稿できるよ。次スレ誘導とかに使ってね\n",
      "<br/><br/>\n",
      "</dd>\n",
      "\n",
      "\n",
      "219\n",
      "220\n",
      "221\n",
      "222\n",
      "<dd>\n",
      "このスレッドは1000を超えました。<br/>もう書けないので、新しいスレッドを立ててくださいです。。。<br/>\n",
      "※スレ主は1005まで投稿できるよ。次スレ誘導とかに使ってね\n",
      "<br/><br/>\n",
      "</dd>\n",
      "\n",
      "\n",
      "223\n",
      "224\n",
      "225\n",
      "226\n",
      "227\n",
      "228\n",
      "229\n",
      "230\n",
      "231\n",
      "232\n",
      "233\n",
      "234\n",
      "235\n",
      "236\n",
      "237\n"
     ]
    }
   ],
   "source": [
    "import time\n",
    "\n",
    "texts = \"\"\n",
    "# 全部のスレッドにアクセスしてhtmlを拾ってきてからddタグが付いた要素だけを抽出して、\n",
    "# その後に全部のレスを抜き出してtexts変数に突っ込むforループ\n",
    "for i, link_url in enumerate(linked_urls):\n",
    "    print(i)\n",
    "    # 各スレッドのアドレスからhtmlを分解した状態で抽出と\n",
    "    thread = pq(link_url)\n",
    "    # dd要素を抽出\n",
    "    each_thread_doms = thread.find(\"dd\")\n",
    "    # 各スレッドからレスを全部抽出するforループ\n",
    "    for each_thread_dom in each_thread_doms:\n",
    "        #print(str(pq(each_thread_dom)))\n",
    "        # レスがまとまった非文字列になってるため、それを全部文字列に変換する\n",
    "        strtype_each_thread_res = str(pq(each_thread_dom))\n",
    "        # レスのみを抽出するために余分な部分を全部排除する\n",
    "        # > >の文字そのもの\n",
    "        # [\\s\\S] スペースや改行も含めたあらゆる文字列( . スペースや開業を含まない何にか文字 )\n",
    "        # * 直前の文字の繰り返し（何回でもいい）\n",
    "        # ? 直前の文字の繰り返しを最短マッチに限る\n",
    "        # <ares <aresって文字列\n",
    "        # >バックレ伝説を聞くけど間近で見たことはない<br/>\\n<ares\n",
    "        # >から始まって、その後に改行もスペースもありでなんかの文字列がずっと続いた後に、\n",
    "        # <aresという文字列がやってくるパターンを最短マッチのものに限り抽出しろ\n",
    "        res = re.search(\">[\\s\\S]*?<ares\", strtype_each_thread_res)\n",
    "        # tryは例外処理って呼ばれる構文\n",
    "        try:\n",
    "            # 文字列textsにとりだした結果を格納\n",
    "            # groupは正規表現の結果から取り出す関数 \n",
    "            texts += res.group()[1:-5]\n",
    "        except:\n",
    "            print(str(pq(each_thread_dom)))\n",
    "    # サーバに負荷かけないように1秒休む\n",
    "    time.sleep(1)\n",
    "    "
   ]
  },
  {
   "cell_type": "code",
   "execution_count": 31,
   "metadata": {},
   "outputs": [],
   "source": [
    "# 不要なタグの残りを削除してる\n",
    "output_text = pq(texts.replace(\"<br/>\", \"\").replace(\"\\n\", \"\\\\n\"))"
   ]
  },
  {
   "cell_type": "code",
   "execution_count": 32,
   "metadata": {},
   "outputs": [],
   "source": [
    "output_text = str(output_text.remove(\"div\").remove(\"a\").remove(\"br\"))"
   ]
  },
  {
   "cell_type": "code",
   "execution_count": 33,
   "metadata": {},
   "outputs": [],
   "source": [
    "# \\nがpqとおすと消える恐れがあるので元に戻す\n",
    "output_text = output_text.replace(\"\\\\n\", \"\\n \")"
   ]
  },
  {
   "cell_type": "code",
   "execution_count": 62,
   "metadata": {},
   "outputs": [],
   "source": [
    "# 整形しおわった本文抽出結果を保存\n",
    "# encoding='UTF-8'をつけないと'cp932' codec can't encode characterというエラー\n",
    "# https://ja.stackoverflow.com/questions/34431/python-%E3%82%A8%E3%83%A9%E3%83%BCcp932-codec-cant-encode-character\n",
    "fw = open(\"./2chtext.txt\", \"w\", encoding=\"utf-8\")"
   ]
  },
  {
   "cell_type": "code",
   "execution_count": 63,
   "metadata": {},
   "outputs": [
    {
     "data": {
      "text/plain": [
       "2299694"
      ]
     },
     "execution_count": 63,
     "metadata": {},
     "output_type": "execute_result"
    }
   ],
   "source": [
    "fw.write(output_text + \"\\n\")"
   ]
  },
  {
   "cell_type": "code",
   "execution_count": 64,
   "metadata": {},
   "outputs": [],
   "source": [
    "fw.close()"
   ]
  },
  {
   "cell_type": "code",
   "execution_count": 65,
   "metadata": {
    "scrolled": true
   },
   "outputs": [
    {
     "data": {
      "text/plain": [
       "0"
      ]
     },
     "execution_count": 65,
     "metadata": {},
     "output_type": "execute_result"
    }
   ],
   "source": [
    "# subprocess:Pythonからコマンドを実行するためのモジュール\n",
    "import subprocess as sp\n",
    "# mecabをよびだして単語ごとに分解する\n",
    "# -o (実行file名)\t実行ファイル名を指定\n",
    "sp.call([\"mecab\", \"./2chtext.txt\", \"-o\", \"./2chtextmecab.txt\", \"-Owakati\"], shell=True)\n",
    "#sp.call([\"mecab\", \"2chtext.txt\", \"-o\", \"2chtextmecab.txt\", \"-Owakati\"])\n",
    "#tg = MeCab.Tagger(\"-Owakati\", \"-b\", \"81920000000000\")"
   ]
  },
  {
   "cell_type": "code",
   "execution_count": 71,
   "metadata": {},
   "outputs": [],
   "source": [
    "# mecabで分解してくれた単語ごとに区切ったファイルを読み込み\n",
    "fr = open(\"./2chtextmecab.txt\", \"r\", encoding=\"utf-8\")\n",
    "\n",
    "mecabed_txt = fr.read()\n",
    "# 単語ごとに空白で区切られた文字列から単語ごとの文字列listを取得する\n",
    "list_out_txt = mecabed_txt.split(\" \")\n",
    "# 単語ごとにどれぐらいの頻度で出てきたかを数え上げしてる\n",
    "list_out_txt = pd.Series(list_out_txt).value_counts()\n",
    "\n",
    "fw = open(\"2chtextmecab_vocab.txt\", \"w\", encoding=\"utf-8\")\n",
    "\n",
    "# 低頻出な単語を省きたいのでそれをvalue_countの結果から弾いて捨てるforループ\n",
    "for index, out_txt_word_frequency in zip(list_out_txt.index, list_out_txt):\n",
    "    # 頻出回数が20以下の単語は消す\n",
    "    if out_txt_word_frequency <= 20:\n",
    "        mecabed_txt = mecabed_txt.replace(index, \"\")\n",
    "    \n",
    "fw.write(mecabed_txt)\n",
    "fw.close()"
   ]
  },
  {
   "cell_type": "code",
   "execution_count": 4,
   "metadata": {
    "scrolled": true
   },
   "outputs": [
    {
     "name": "stderr",
     "output_type": "stream",
     "text": [
      "/anaconda3/lib/python3.6/site-packages/ipykernel_launcher.py:13: DeprecationWarning: Call to deprecated `iter` (Attribute will be removed in 4.0.0, use self.epochs instead).\n",
      "  del sys.path[0]\n"
     ]
    }
   ],
   "source": [
    "#ここのセルでfasttextを用いて単語間の関係性を学習\n",
    "from gensim.models.word2vec import LineSentence\n",
    "\n",
    "# 学習用の食わせるデータを作成\n",
    "input_file = LineSentence(\"./2chtextmecab.txt\")\n",
    "input_file_vocab = LineSentence(\"./2chtextmecab_vocab.txt\")\n",
    "\n",
    "# modelを作成\n",
    "model = ft.FastText(min_count=1)\n",
    "# vocabように作った低頻出単語削除済みのデータを使って辞書作成\n",
    "model.build_vocab(input_file)\n",
    "# 実際にtrainして単語関係を学習\n",
    "model.train(input_file, total_examples=model.corpus_count, epochs=model.iter)"
   ]
  },
  {
   "cell_type": "code",
   "execution_count": 5,
   "metadata": {},
   "outputs": [],
   "source": [
    "# vocabをlistに変換\n",
    "vocab_list = list(model.wv.vocab) \n",
    "# vocabのlistから１単語をベクトル表現に変換して単語ごとのベクトル表現を手に入れると\n",
    "vect = [model.wv.get_vector(word=word) for word in vocab_list]\n",
    "\n",
    "# 100次元のベクトルを2次元に置き換えたい\n",
    "from sklearn.manifold import TSNE\n",
    "tsne = TSNE()"
   ]
  },
  {
   "cell_type": "code",
   "execution_count": 6,
   "metadata": {},
   "outputs": [],
   "source": [
    "# 2次元表現res_2d獲得できる\n",
    "res_2d = tsne.fit_transform(vect)"
   ]
  },
  {
   "cell_type": "code",
   "execution_count": 7,
   "metadata": {
    "scrolled": true
   },
   "outputs": [
    {
     "data": {
      "image/png": "[encoded data removed]",
      "text/plain": [
       "<Figure size 2160x2160 with 1 Axes>"
      ]
     },
     "metadata": {},
     "output_type": "display_data"
    }
   ],
   "source": [
    "import matplotlib as mpl\n",
    "from matplotlib.font_manager import FontProperties\n",
    "#mpl.rcParams['font.family'] = 'AppleGothic'\n",
    "\n",
    "#plt.rcParams['font.family'] = 'AppleGothic'\n",
    "#font_path = '/usr/share/fonts/truetype/takao-gothic/TakaoPGothic.ttf'\n",
    "#font_prop = FontProperties(fname=font_path)\n",
    "#mpl.rcParams['font.family'] = font_prop.get_name()\n",
    "\n",
    "fig, ax = plt.subplots(figsize=[30,30])\n",
    "ax.scatter(res_2d[::100, 0], res_2d[::100, 1])\n",
    "for word, x, y in zip(list(model.wv.vocab)[::300], res_2d[::300, 0], res_2d[::300, 1]):\n",
    "    ax.annotate(word, (x,y))"
   ]
  },
  {
   "cell_type": "code",
   "execution_count": 74,
   "metadata": {},
   "outputs": [
    {
     "name": "stderr",
     "output_type": "stream",
     "text": [
      "/anaconda3/lib/python3.6/site-packages/gensim/matutils.py:737: FutureWarning: Conversion of the second argument of issubdtype from `int` to `np.signedinteger` is deprecated. In future, it will be treated as `np.int64 == np.dtype(int).type`.\n",
      "  if np.issubdtype(vec.dtype, np.int):\n"
     ]
    },
    {
     "data": {
      "text/plain": [
       "[('キタァ', 0.974263608455658),\n",
       " ('キタッ', 0.9712108373641968),\n",
       " ('キタザワ', 0.96505206823349),\n",
       " ('ジシンキタ', 0.9498623609542847),\n",
       " ('ドウテンキタ', 0.9441677331924438),\n",
       " ('ァ', 0.9197967052459717),\n",
       " ('ウウ', 0.9185222387313843),\n",
       " ('アア', 0.9145909547805786),\n",
       " ('イマキタ', 0.9123387932777405),\n",
       " (';〈', 0.9109686613082886)]"
      ]
     },
     "execution_count": 74,
     "metadata": {},
     "output_type": "execute_result"
    }
   ],
   "source": [
    "model.wv.most_similar(\"キタ\")"
   ]
  },
  {
   "cell_type": "code",
   "execution_count": 79,
   "metadata": {},
   "outputs": [
    {
     "name": "stderr",
     "output_type": "stream",
     "text": [
      "/anaconda3/lib/python3.6/site-packages/gensim/matutils.py:737: FutureWarning: Conversion of the second argument of issubdtype from `int` to `np.signedinteger` is deprecated. In future, it will be treated as `np.int64 == np.dtype(int).type`.\n",
      "  if np.issubdtype(vec.dtype, np.int):\n"
     ]
    },
    {
     "data": {
      "text/plain": [
       "[('日本平', 0.9432467222213745),\n",
       " ('日本ハム', 0.9422600269317627),\n",
       " ('日本一', 0.9398524761199951),\n",
       " ('西日本', 0.9317530393600464),\n",
       " ('東日本', 0.9201017022132874),\n",
       " ('日本体育大学', 0.9138821363449097),\n",
       " ('ドローワールドカップ', 0.9035205841064453),\n",
       " ('ワールドカップウルグアイ', 0.9019733667373657),\n",
       " ('ークラブワールドカップ', 0.9000759720802307),\n",
       " ('アフリカ', 0.899178683757782)]"
      ]
     },
     "execution_count": 79,
     "metadata": {},
     "output_type": "execute_result"
    }
   ],
   "source": [
    "model.wv.most_similar(positive=[\"日本\", \"国\"])"
   ]
  },
  {
   "cell_type": "code",
   "execution_count": 78,
   "metadata": {
    "scrolled": true
   },
   "outputs": [
    {
     "name": "stderr",
     "output_type": "stream",
     "text": [
      "/anaconda3/lib/python3.6/site-packages/gensim/matutils.py:737: FutureWarning: Conversion of the second argument of issubdtype from `int` to `np.signedinteger` is deprecated. In future, it will be treated as `np.int64 == np.dtype(int).type`.\n",
      "  if np.issubdtype(vec.dtype, np.int):\n"
     ]
    },
    {
     "data": {
      "text/plain": [
       "[('よば', 0.9880120754241943),\n",
       " ('香川', 0.9581394791603088),\n",
       " ('岡崎', 0.8841283917427063),\n",
       " ('大久保', 0.8657387495040894),\n",
       " ('岡崎前', 0.860399067401886),\n",
       " ('ネイマ', 0.8512985110282898),\n",
       " ('柴崎', 0.8507445454597473),\n",
       " ('大迫', 0.844675600528717),\n",
       " ('宇佐美', 0.8413134217262268),\n",
       " ('長谷部', 0.838497519493103)]"
      ]
     },
     "execution_count": 78,
     "metadata": {},
     "output_type": "execute_result"
    }
   ],
   "source": [
    "model.wv.most_similar(\"本田\")"
   ]
  },
  {
   "cell_type": "code",
   "execution_count": 87,
   "metadata": {
    "scrolled": true
   },
   "outputs": [
    {
     "name": "stderr",
     "output_type": "stream",
     "text": [
      "/anaconda3/lib/python3.6/site-packages/gensim/matutils.py:737: FutureWarning: Conversion of the second argument of issubdtype from `int` to `np.signedinteger` is deprecated. In future, it will be treated as `np.int64 == np.dtype(int).type`.\n",
      "  if np.issubdtype(vec.dtype, np.int):\n"
     ]
    },
    {
     "data": {
      "text/plain": [
       "[('サッカーシロウト', 0.9325523376464844),\n",
       " ('日本一', 0.9318423867225647),\n",
       " ('日本ハム', 0.9299184083938599),\n",
       " ('西日本', 0.927941620349884),\n",
       " ('日本平', 0.9259690046310425),\n",
       " ('東日本', 0.9256570935249329),\n",
       " ('サッポコ', 0.9208706617355347),\n",
       " ('ナイジェリサッカー', 0.9162102937698364),\n",
       " ('サッリ', 0.9144153594970703),\n",
       " ('サッカードットコム', 0.9120882153511047)]"
      ]
     },
     "execution_count": 87,
     "metadata": {},
     "output_type": "execute_result"
    }
   ],
   "source": [
    "model.wv.most_similar(positive=[\"日本\", \"サッカー\"])"
   ]
  },
  {
   "cell_type": "code",
   "execution_count": null,
   "metadata": {
    "collapsed": true
   },
   "outputs": [],
   "source": []
  }
 ],
 "metadata": {
  "kernelspec": {
   "display_name": "Python 3",
   "language": "python",
   "name": "python3"
  },
  "language_info": {
   "codemirror_mode": {
    "name": "ipython",
    "version": 3
   },
   "file_extension": ".py",
   "mimetype": "text/x-python",
   "name": "python",
   "nbconvert_exporter": "python",
   "pygments_lexer": "ipython3",
   "version": "3.6.5"
  }
 },
 "nbformat": 4,
 "nbformat_minor": 2
}
